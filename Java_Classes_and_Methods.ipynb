{
  "nbformat": 4,
  "nbformat_minor": 0,
  "metadata": {
    "colab": {
      "provenance": [],
      "authorship_tag": "ABX9TyPd8J8lsQKc2O2ud/aD9xB7",
      "include_colab_link": true
    },
    "kernelspec": {
      "name": "python3",
      "display_name": "Python 3"
    },
    "language_info": {
      "name": "python"
    }
  },
  "cells": [
    {
      "cell_type": "markdown",
      "metadata": {
        "id": "view-in-github",
        "colab_type": "text"
      },
      "source": [
        "<a href=\"https://colab.research.google.com/github/brendanpshea/java/blob/main/Java_Classes_and_Methods.ipynb\" target=\"_parent\"><img src=\"https://colab.research.google.com/assets/colab-badge.svg\" alt=\"Open In Colab\"/></a>"
      ]
    },
    {
      "cell_type": "markdown",
      "source": [
        "# Object-Oriented Programming in Java\n",
        "**Object-Oriented Programming**, or OOP, is a programming paradigm that's a bit like a well-organized coffee shop. In this coffee shop, which we'll call \"Fantasia Café,\" everything is sorted by type: there's a counter for coffee, another for tea, and a display for pastries. Each type of item, whether it's a \"Witch's Brew Latte\" or a \"Hobbit Hole Donut,\" has its own set of characteristics and ways it interacts with the world. In OOP lingo, these are called attributes and methods. An attribute is a quality or characteristic. For instance, the \"Witch's Brew Latte\" might have attributes like \"strong\" or \"contains cinnamon.\" Methods are the behaviors or actions that can be performed on or by these items. For example, the latte could be \"brewed\" or \"sweetened.\"\n",
        "\n",
        "This way of organizing code is a bit different from **procedural programming**, the style often seen in Python although Python can do OOP as well. Procedural programming is more like a kitchen where you have a list of sequential recipes but not a clear categorization of what each recipe represents or how it relates to others. You might have a set of steps to make a coffee and another set of steps to make a pastry, but they aren't bundled together under a unifying theme. In this procedural kitchen, you focus on the steps or procedures to get to the end result. There's no elegant division that lets you say, \"Ah, these sets of steps are all variations of making coffee, and those over there are all about crafting pastries.\"\n"
      ],
      "metadata": {
        "id": "VQY1FBQLPyZa"
      }
    },
    {
      "cell_type": "markdown",
      "source": [
        "## Classes and Objects at the Cafe\n",
        "Imagine you've just walked into the Fantasia Café and marveling at all the magical drinks and pastries. You might wonder, \"How do they make each item so *consistently* magical?\"  In the world of Java programming, making something \"consistently magical\" is accomplished through something called a class. When people say Java is class-based, they mean that Java uses these **classes** as a sort of master recipe card to create specific things in your program.\n",
        "\n",
        "Now, what is a class? Picture a detailed recipe card for a special drink called \"Fairy's Daydream.\" This recipe card tells you everything about the drink: its color (let's say, sky blue), its taste (a hint of lavender), and how frothy it should be. These are like the ingredients and qualities that make \"Fairy's Daydream\" what it is.\n",
        "\n",
        "But a recipe card doesn't stop at the list of ingredients; it also tells you how to make the drink. Should you stir it clockwise or add the fairy dust before the moonwater? These are the steps or instructions.  In Java, the recipe card is a class. It tells you what qualities (in tech-speak, these are called **attributes**) the thing you're making should have. It also tells you how to make it, or the steps to follow (these are called **method**s in Java).\n",
        "\n",
        "Here's a super-simple Java example for our \"Fairy's Daydream\" drink:\n"
      ],
      "metadata": {
        "id": "dyuK69qIRDVs"
      }
    },
    {
      "cell_type": "code",
      "source": [
        "%%writefile FairysDaydream.java\n",
        "public class FairysDaydream {\n",
        "  // Qualities (like ingredients)\n",
        "  String color = \"sky blue\";\n",
        "  String taste = \"lavender\";\n",
        "  int frothLevel = 8;\n",
        "\n",
        "  // Instructions (like how to make the drink)\n",
        "  public void makeDrink() {\n",
        "    System.out.println(\"Making a \" + color + \" Fairy's Daydream with a taste of \" + taste);\n",
        "  }\n",
        "}\n"
      ],
      "metadata": {
        "colab": {
          "base_uri": "https://localhost:8080/"
        },
        "id": "M4X_yDaXP7zl",
        "outputId": "caf10d89-e371-4f44-da1f-dcad50426419"
      },
      "execution_count": null,
      "outputs": [
        {
          "output_type": "stream",
          "name": "stdout",
          "text": [
            "Writing FairysDaydream.java\n"
          ]
        }
      ]
    },
    {
      "cell_type": "code",
      "source": [
        "!javac FairysDaydream.java"
      ],
      "metadata": {
        "id": "CvLcbJn-TnFT"
      },
      "execution_count": null,
      "outputs": []
    },
    {
      "cell_type": "markdown",
      "source": [
        "In this example, `color`, `taste`, and `frothLevel` are the qualities (attributes) that every \"Fairy's Daydream\" will have. The `makeDrink()` part is the instruction (method) for making the drink.\n",
        "\n",
        "When you want to actually make a \"Fairy's Daydream,\" you'd use this class as a guide, just like a barista would use a recipe card to whip up the drink for you. (That is, you'd need to make an **object** based on this class in order to actually *do something*. More on this below!"
      ],
      "metadata": {
        "id": "Jy15eT14RcWe"
      }
    },
    {
      "cell_type": "markdown",
      "source": [
        "## What Makes a Class-y Class?\n",
        "Java's class-based approach approach can be very powerful. However, in order to get it to \"work\" for you, you need to train yourself to think in terms of \"objects\" and their properties. This process is somewhat like conceptualizing a new fantasy-themed drink for Fantasia Café. You'd start by thinking, \"What makes this drink unique?\" and \"What can you do with it?\" In Java, these questions parallel deciding on attributes and behaviors for your class.\n",
        "\n",
        "### Attributes: What Makes It Unique?\n",
        "\n",
        "First, let's talk about attributes. In the case of a fantasy-themed drink like \"Unicorn Frappé,\" you'd start by listing its distinctive features. What color is it? Does it have glitter? Is it dairy-free? These features are what make the \"Unicorn Frappé\" recognizable and distinct.\n",
        "\n",
        "In Java, these distinctive features are called attributes. When defining a class, you start by laying out these attributes using variables. For instance, if you're creating a class for the \"Unicorn Frappé,\" it might look something like this:\n",
        "\n",
        "```java\n",
        "public class UnicornFrappe {\n",
        "  String color = \"rainbow\";\n",
        "  boolean hasGlitter = true;\n",
        "  boolean isDairyFree = false;\n",
        "}\n",
        "```\n",
        "\n",
        "Here, `color`, `hasGlitter`, and `isDairyFree` are attributes that define what a \"Unicorn Frappé\" is.\n",
        "\n",
        "### Behaviors: What Can It Do?\n",
        "\n",
        "Next, you'd think about behaviors, or what you can do with this drink. Can you sip it? Is it so thick that you need to spoon it out? Maybe it even has a magical effect, like making you speak in rhymes for a minute!\n",
        "\n",
        "In Java, these behaviors are represented as methods, which are essentially functions contained within a class. Methods define what you can do with an object created from that class. For our \"Unicorn Frappé,\" let's say you can sip it and it has a magical effect. The class might then expand like this:\n"
      ],
      "metadata": {
        "id": "wqSSjKWwSzme"
      }
    },
    {
      "cell_type": "code",
      "source": [
        "%%writefile UnicornFrappe.java\n",
        "public class UnicornFrappe {\n",
        "  // Attributes\n",
        "  String color = \"rainbow\";\n",
        "  boolean hasGlitter = true;\n",
        "  boolean isDairyFree = false;\n",
        "\n",
        "  // Behaviors (Methods)\n",
        "  public void sip() {\n",
        "    System.out.println(\"Sipping the \" + color + \" Unicorn Frappé!\");\n",
        "  }\n",
        "\n",
        "  public void activateMagic() {\n",
        "    System.out.println(\"You can now speak in rhymes!\");\n",
        "  }\n",
        "}"
      ],
      "metadata": {
        "colab": {
          "base_uri": "https://localhost:8080/"
        },
        "id": "JyBEblfeTSbO",
        "outputId": "528da693-9471-4789-b5f9-e72d1a504575"
      },
      "execution_count": null,
      "outputs": [
        {
          "output_type": "stream",
          "name": "stdout",
          "text": [
            "Overwriting UnicornFrappe.java\n"
          ]
        }
      ]
    },
    {
      "cell_type": "code",
      "source": [
        "!javac UnicornFrappe.java"
      ],
      "metadata": {
        "id": "SY7p0vzcRyVd"
      },
      "execution_count": null,
      "outputs": []
    },
    {
      "cell_type": "markdown",
      "source": [
        "Now, we've added two methods: `sip()` and `activateMagic()`. These methods define the actions or behaviors that can be carried out on a \"Unicorn Frappé.\"\n",
        "\n",
        "### Putting It All Together: A Blueprint for the World\n",
        "\n",
        "Once you've decided on attributes and behaviors, you've essentially created a blueprint for making any number of \"Unicorn Frappés,\" each with the same basic features and capabilities. Similarly, in Java, once you've defined a class, you can create multiple objects based on that class. Each object will have the attributes and behaviors you've laid out.\n",
        "\n",
        "In short, defining a class is your first step in creating an object-oriented model of the world. This model helps you think about complex systems---like a café or a software program---as a collection of interacting objects. By understanding the attributes and behaviors that each type of object can have, you're better equipped to understand, build, and even troubleshoot the system as a whole. It's an immensely powerful way of making sense of the world, whether that world is a fantastical café or a piece of software."
      ],
      "metadata": {
        "id": "ROzbVgl-Txct"
      }
    },
    {
      "cell_type": "markdown",
      "source": [
        "## How to \"Construct\" Our Drinks\n",
        "In the world of Java, a **constructor** is the special method that takes the list of ingredients (or attributes) and crafts an actual instance of the drink (or object). It's a vital part of our class-based recipe system.\n",
        "\n",
        "Let's use the \"Unicorn Frappé\" as an example again. We already have a class blueprint that outlines what a \"Unicorn Frappé\" is made of and what it can do. But how do we go from this conceptual blueprint to an actual, sippable \"Unicorn Frappé\"? That's where the constructor comes in.\n",
        "\n",
        "In Java, you define a constructor using a special method that has the same name as the class and no return type. This constructor is automatically called when you create a new object from that class. Here's how it might look:"
      ],
      "metadata": {
        "id": "2RdUREX1U4DZ"
      }
    },
    {
      "cell_type": "code",
      "source": [
        "%%writefile UnicornFrappe.java\n",
        "public class UnicornFrappe {\n",
        "  // Attributes (Fields)\n",
        "  String color;\n",
        "  boolean hasGlitter;\n",
        "  boolean isDairyFree;\n",
        "\n",
        "  // Constructor\n",
        "  public UnicornFrappe(String givenColor, boolean givenGlitter, boolean givenDairyFree) {\n",
        "    color = givenColor;\n",
        "    hasGlitter = givenGlitter;\n",
        "    isDairyFree = givenDairyFree;\n",
        "  }\n",
        "\n",
        "  // Behaviors (Methods)\n",
        "  public void sip() {\n",
        "    System.out.println(\"Sipping the \" + color + \" Unicorn Frappé!\");\n",
        "  }\n",
        "\n",
        "  public void activateMagic() {\n",
        "    System.out.println(\"You can now speak in rhymes!\");\n",
        "  }\n",
        "}\n"
      ],
      "metadata": {
        "colab": {
          "base_uri": "https://localhost:8080/"
        },
        "id": "JMuPAn9xTxvt",
        "outputId": "3f651532-fc1b-495c-c516-a4e201e55e75"
      },
      "execution_count": null,
      "outputs": [
        {
          "output_type": "stream",
          "name": "stdout",
          "text": [
            "Overwriting UnicornFrappe.java\n"
          ]
        }
      ]
    },
    {
      "cell_type": "code",
      "source": [
        "!javac UnicornFrappe.java"
      ],
      "metadata": {
        "id": "flR7DKdGVFKg"
      },
      "execution_count": null,
      "outputs": []
    },
    {
      "cell_type": "markdown",
      "source": [
        "Notice the section labeled \"Constructor\"? That's our magical spell. When a barista—acting as the programmer—decides to make a new \"Unicorn Frappé,\" they would invoke this constructor and provide the necessary ingredients. In code, that would look something like this:\n",
        "\n",
        "```java\n",
        "UnicornFrappe myFrappe = new UnicornFrappe(\"rainbow\", true, false);\n",
        "```"
      ],
      "metadata": {
        "id": "C0H5BzM2VTwM"
      }
    },
    {
      "cell_type": "markdown",
      "source": [
        "## Adding Another Constructor\n",
        "Adding a constructor to your FairysDaydream class will give you the power to make customized variations of the \"Fairy's Daydream\" drink. Think of it as a master recipe card with optional twists—maybe you want a \"Fairy's Daydream: Sunset Edition\" with a \"rose gold\" color instead of the usual \"sky blue.\"\n",
        "\n",
        "To add a constructor, you'll create a special method within the class that has the same name as the class and no return type. This constructor will initialize the attributes (or qualities, as we've been calling them) of the object when it's created. Here's how to do it:"
      ],
      "metadata": {
        "id": "Upyg-T62XuRj"
      }
    },
    {
      "cell_type": "code",
      "source": [
        "%%writefile FairysDaydream.java\n",
        "public class FairysDaydream {\n",
        "  // Qualities (like ingredients)\n",
        "  String color;\n",
        "  String taste;\n",
        "  int frothLevel;\n",
        "\n",
        "  // Constructor\n",
        "  public FairysDaydream(String givenColor, String givenTaste, int givenFrothLevel) {\n",
        "    color = givenColor;\n",
        "    taste = givenTaste;\n",
        "    frothLevel = givenFrothLevel;\n",
        "  }\n",
        "\n",
        "  // Instructions (like how to make the drink)\n",
        "  public void makeDrink() {\n",
        "    System.out.println(\"Making a \" + color + \" Fairy's Daydream with a taste of \" + taste);\n",
        "  }\n",
        "}\n"
      ],
      "metadata": {
        "colab": {
          "base_uri": "https://localhost:8080/"
        },
        "id": "TIccfTXsX6gs",
        "outputId": "acfda4d5-9e20-4ee1-ed1d-88a31fa0e945"
      },
      "execution_count": null,
      "outputs": [
        {
          "output_type": "stream",
          "name": "stdout",
          "text": [
            "Overwriting FairysDaydream.java\n"
          ]
        }
      ]
    },
    {
      "cell_type": "code",
      "source": [
        "!javac FairysDaydream.java"
      ],
      "metadata": {
        "id": "Cjdy_dBQYDmE"
      },
      "execution_count": null,
      "outputs": []
    },
    {
      "cell_type": "markdown",
      "source": [
        "## Instantiang Objects With `new`\n",
        "\n",
        "In our Fantasia Café, imagine a barista picking up a magic wand and declaring, \"Let there be a Unicorn Frappé!\" The wand waves, and poof---a new Unicorn Frappé appears, ready to be sipped. In Java, the `new` keyword serves a similar purpose. It tells Java to allocate memory for a new object and then to call the constructor to initialize that object. Here's how we used it before:\n",
        "\n",
        "```java\n",
        "UnicornFrappe myFrappe = new UnicornFrappe(\"rainbow\", true, false);\n",
        "```\n",
        "\n",
        "In this line, `new UnicornFrappe(\"rainbow\", true, false)` is the magic incantation. `new` allocates the memory, and `UnicornFrappe(\"rainbow\", true, false)` calls the constructor to actually create the object.\n",
        "\n",
        "### Commonly Encountered Objects\n",
        "\n",
        "For beginners, it might be surprising to learn just how many things in Java are objects. Let's take a look at a few common examples:\n",
        "\n",
        "1.   When you create a text **String** in Java, you're actually creating an object of the `String` class.\n",
        "\n",
        "```java\n",
        "String myName = new String(\"Gandalf\");\n",
        "```\n",
        "\n",
        "2. If you're reading input from the user, you'll likely use a `Scanner` object.\n",
        "\n",
        "```java\n",
        "Scanner myScanner = new Scanner(System.in);\n",
        "```\n",
        "\n",
        "3.  **ArrayLists** are part of Java's Collections Framework and are essentially resizable arrays (very similar to Python lists)\n",
        "\n",
        "```java\n",
        "ArrayList<String> myDrinks = new ArrayList<String>();\n",
        "```\n",
        "\n",
        "Each of these examples uses the `new` keyword to create a new object, and each requires a constructor---even if that constructor is sometimes hidden from view.\n",
        "\n",
        "### Recognizing Objects in Java\n",
        "\n",
        "For newcomers, a key step in mastering Java is recognizing what things are objects. A general tip: if you're using `new`, you're dealing with objects. If you're invoking methods using dot notation (like `myScanner.nextLine()`), you're calling methods on objects. Java is teeming with objects, from the foundational building blocks like Strings to specialized constructs like Scanners or ArrayLists.\n",
        "\n",
        "So, the next time you see the `new` keyword, remember the barista waving a magic wand in our Fantasia Café. With that simple word, the world of Java springs to life, filled with objects ready to perform their roles in your program's unfolding narrative."
      ],
      "metadata": {
        "id": "EZ--vO81W6Mk"
      }
    },
    {
      "cell_type": "markdown",
      "source": [
        "## Making Methods\n",
        "Adding methods to classes in Java has some distinctive features when compared to Python, especially in terms of visibility, explicit data types, and the special role of the `main` method. These can be seen as the special instructions or advanced brewing techniques that make Java's way of doing things unique.\n",
        "\n",
        "### Visibility: The Secret Recipe\n",
        "\n",
        "In Java, you can define who has access to a method by setting its **visibility**. This is a bit like deciding who in the Fantasia Café can access the secret recipe for the \"Dragon's Breath Macchiato.\" In Java, the visibility keywords are `public`, `private`, `protected`, and package-private (no keyword).\n",
        "\n",
        "-   `public`: Any class can access this method.\n",
        "-   `private`: Only methods within the same class can access this method.\n",
        "-   `protected`: Only classes in the same **package** or subclasses can access this method.\n",
        "-   No keyword (package-private): Only classes in the same package can access this method.\n",
        "\n",
        "```java\n",
        "public class FairysDaydream {\n",
        "  // Public method\n",
        "  public void sip() {\n",
        "    System.out.println(\"Sip the magical brew!\");\n",
        "  }\n",
        "\n",
        "  // Private method\n",
        "  private void secretRecipe() {\n",
        "    System.out.println(\"Mixing secret fairy dust...\");\n",
        "  }\n",
        "}\n",
        "```\n",
        "\n",
        "### Explicit Data Types: The Exact Measurements\n",
        "\n",
        "Java is **strongly typed**, meaning you must be explicit about the type of data a method will return. It's like specifying that our \"Elven Espresso\" will always be served in exactly 4-ounce cups, no exceptions. In Python, you can be a bit more lax, serving the espresso in whatever cup is at hand. In Java, if a method is going to return an integer, you say so upfront with `int`. If it won't return anything, you use `void`.\n",
        "\n",
        "```java\n",
        "public class FairysDaydream {\n",
        "  // Method that returns an integer\n",
        "  public int getFrothLevel() {\n",
        "    return 8;\n",
        "  }\n",
        "\n",
        "  // Method that doesn't return anything\n",
        "  public void makeDrink() {\n",
        "    System.out.println(\"Making a Fairy's Daydream...\");\n",
        "  }\n",
        "}\n",
        "```\n",
        "\n",
        "### The Special Role of `main`: The Café's Grand Opening\n",
        "\n",
        "In Java, the `main` method is particularly special; it's the entry point for your program. When you run a Java application, it's like opening the doors to the Fantasia Café for the day. The `main` method is the first thing that gets executed, welcoming the customers (or users) and setting everything in motion.\n",
        "\n",
        "The `main` method always has the same signature:\n",
        "\n",
        "```java\n",
        "public static void main(String[] args) {\n",
        "  // Your code here\n",
        "}\n",
        "```\n",
        "\n",
        "-   `public`: It's accessible from anywhere, making it possible for the Java Virtual Machine (JVM) to run it.\n",
        "-   `static`: It belongs to the class itself, rather than any specific instance of the class.\n",
        "-   `void`: It doesn't return anything.\n",
        "-   `String[] args`: It accepts an array of strings as arguments, which you can use to pass data into your program when you run it.\n",
        "\n",
        "Here's how it might look in a simple Java program:\n",
        "\n",
        "```java\n",
        "public class FantasiaCafe {\n",
        "  public static void main(String[] args) {\n",
        "    System.out.println(\"Welcome to Fantasia Café, where dreams come true!\");\n",
        "    // Create a new Fairy's Daydream\n",
        "    FairysDaydream daydreamDrink = new FairysDaydream(\"sky blue\", \"lavender\", 8);\n",
        "    daydreamDrink.makeDrink();\n",
        "  }\n",
        "}\n",
        "```\n",
        "\n",
        "In this example, the `main` method welcomes customers to the Fantasia Café and then proceeds to make a \"Fairy's Daydream\" using the `FairysDaydream` class we defined earlier.\n",
        "\n",
        "Understanding these unique aspects of defining methods in Java---visibility, explicit data types, and the special role of `main`---is like learning the house rules and signature styles of Fantasia Café. It's a different experience from Python, but one that offers its own set of rewards and capabilities."
      ],
      "metadata": {
        "id": "F8H_ABYLYxp2"
      }
    },
    {
      "cell_type": "markdown",
      "source": [
        "## Putting It Altogther\n",
        "OK, we're finaly ready to open our coffeeshop! First, we'll create a new Java file called FantasiaCoffeeshop.java. This will be the main stage where the magic happens. It's like the café floor where customers will interact with the baristas (Unicorn Frappé and Fairy's Daydream).\n",
        "\n",
        "Here's how the FantasiaCoffeeshop.java file might look:"
      ],
      "metadata": {
        "id": "ujqd5oDtaQFP"
      }
    },
    {
      "cell_type": "code",
      "source": [
        "%%writefile FantasiaCoffeeshop.java\n",
        "import java.util.Scanner;\n",
        "\n",
        "public class FantasiaCoffeeshop {\n",
        "  public static void main(String[] args) {\n",
        "    // Welcome customers\n",
        "    System.out.println(\"Welcome to Fantasia Coffeeshop, where your magical caffeine dreams come true!\");\n",
        "\n",
        "    // Initialize Scanner to read input\n",
        "    Scanner scanner = new Scanner(System.in);\n",
        "\n",
        "    // Loop to keep offering choices\n",
        "    while (true) {\n",
        "      // Display menu options\n",
        "      System.out.println(\"What would you like to order?\");\n",
        "      System.out.println(\"1: Unicorn Frappé\");\n",
        "      System.out.println(\"2: Fairy's Daydream\");\n",
        "      System.out.println(\"3: Exit\");\n",
        "\n",
        "      // Get customer's choice\n",
        "      int choice = scanner.nextInt();\n",
        "\n",
        "      // Create drinks based on choice\n",
        "      if (choice == 1) {\n",
        "        UnicornFrappe frappe = new UnicornFrappe(\"rainbow\", true, false);\n",
        "        frappe.sip();\n",
        "        frappe.activateMagic();\n",
        "      } else if (choice == 2) {\n",
        "        FairysDaydream daydream = new FairysDaydream(\"sky blue\", \"lavender\", 8);\n",
        "        daydream.makeDrink();\n",
        "      } else if (choice == 3) {\n",
        "        System.out.println(\"Thank you for visiting Fantasia Coffeeshop! Have a magical day!\");\n",
        "        break;\n",
        "      } else {\n",
        "        System.out.println(\"Sorry, that's not a valid choice. Please choose again.\");\n",
        "      }\n",
        "    }\n",
        "\n",
        "    // Close the scanner\n",
        "    scanner.close();\n",
        "  }\n",
        "}\n"
      ],
      "metadata": {
        "colab": {
          "base_uri": "https://localhost:8080/"
        },
        "id": "JoFA0fvMadEr",
        "outputId": "90d9a08a-e36e-4c43-c3fa-b74fd2e70f67"
      },
      "execution_count": null,
      "outputs": [
        {
          "output_type": "stream",
          "name": "stdout",
          "text": [
            "Overwriting FantasiaCoffeeshop.java\n"
          ]
        }
      ]
    },
    {
      "cell_type": "markdown",
      "source": [
        "The program works as follows:\n",
        "\n",
        "1. We begin by importing the `java.util.Scanner` library. This library allows the code to read input from the user.\n",
        "\n",
        "2. Next, we declare a main method. The `main()` method is the entry point for all Java programs. This is where the program execution begins. The `main()` method must be declared as `public static void`.\n",
        "\n",
        "3. The code starts by printing a welcome message to the console using `System.out.println()`.\n",
        "\n",
        "4.  The code then displays a menu of drinks and asks the customer to make a choice. The customer's choice is read using the `nextInt()` method from the `Scanner` class. We use `if` and `else if` to make choices.\n",
        "\n",
        "5.  Depending on the customer's choice, the code creates a new instance of the `UnicornFrappe` or `FairysDaydream` class. These classes represent the different types of drinks offered by the coffee shop.\n",
        "\n",
        "We embed this in a loop to keep offering choices to the customer until the customer chooses to exit. This is done using the `while` loop."
      ],
      "metadata": {
        "id": "k-mGHn_PlaPu"
      }
    },
    {
      "cell_type": "markdown",
      "source": [
        "### Compiling and Running Your Java Program\n",
        "\n",
        "Now comes the nitty-gritty part of compiling and running your Java program. Since Java is a compiled language, you'll need to compile ALL of the relevant Java files into bytecode, and then you can run your main program.\n",
        "\n",
        "1. **Compile Each Java File.** Open a terminal, navigate to the directory where all your Java files are saved, and then compile each file:"
      ],
      "metadata": {
        "id": "MZi-18hGa0zE"
      }
    },
    {
      "cell_type": "code",
      "source": [
        "!javac UnicornFrappe.java\n",
        "!javac FairysDaydream.java\n",
        "# This final file won't compile without the other two\n",
        "!javac FantasiaCoffeeshop.java"
      ],
      "metadata": {
        "id": "0c7KGQxAXBDo"
      },
      "execution_count": null,
      "outputs": []
    },
    {
      "cell_type": "markdown",
      "source": [
        "2. **Run the Main Program.** Once you've compiled all the classes, it's time to open Fantasia Coffeeshop for business by running the FantasiaCoffeeshop class:"
      ],
      "metadata": {
        "id": "lUX5yPOYbb_S"
      }
    },
    {
      "cell_type": "code",
      "source": [
        "!java FantasiaCoffeeshop"
      ],
      "metadata": {
        "colab": {
          "base_uri": "https://localhost:8080/"
        },
        "id": "mwmv3F21bfIb",
        "outputId": "fd97309b-9d4c-48e6-f9aa-6be4105513fe"
      },
      "execution_count": null,
      "outputs": [
        {
          "output_type": "stream",
          "name": "stdout",
          "text": [
            "Welcome to Fantasia Coffeeshop, where your magical caffeine dreams come true!\n",
            "What would you like to order?\n",
            "1: Unicorn Frappé\n",
            "2: Fairy's Daydream\n",
            "3: Exit\n",
            "1\n",
            "Sipping the rainbow Unicorn Frappé!\n",
            "You can now speak in rhymes!\n",
            "What would you like to order?\n",
            "1: Unicorn Frappé\n",
            "2: Fairy's Daydream\n",
            "3: Exit\n",
            "2\n",
            "Making a sky blue Fairy's Daydream with a taste of lavender\n",
            "What would you like to order?\n",
            "1: Unicorn Frappé\n",
            "2: Fairy's Daydream\n",
            "3: Exit\n",
            "3\n",
            "Thank you for visiting Fantasia Coffeeshop! Have a magical day!\n"
          ]
        }
      ]
    },
    {
      "cell_type": "markdown",
      "source": [
        "### Exercise: Create Your Own Magical Drink\n",
        "\n",
        "In this exercise, you'll create a new Java class for a drink of your own invention, complete with attributes and methods, and add it to the Fantasia Coffeeshop menu.\n",
        "\n",
        "#### Steps:\n",
        "\n",
        "1. Before diving into code, think about the magical drink you want to create. What's its name? What unique attributes does it have? What special actions can you perform with it?\n",
        "\n",
        "2. Create a new *Java file* with the name of your drink, for example, `DragonLatte.java`. (Note: You should make up your own drink and classname!).\n",
        "\n",
        "3. Inside your new class, define the *attributes* that make your drink unique. These could be things like color, temperature, or magical effects. For example:\n",
        "\n",
        "```java\n",
        "public class DragonLatte {\n",
        "      String color;\n",
        "      String flavor;\n",
        "      boolean isHot;\n",
        "    }\n",
        "```\n",
        "\n",
        "4. Create a *constructor* for your drink class that initializes the attributes. Make sure to use parameter variables to allow for customization.\n",
        "\n",
        "```java\n",
        "public DragonLatte(String givenColor, String givenFlavor, boolean givenIsHot) {\n",
        "      color = givenColor;\n",
        "      flavor = givenFlavor;\n",
        "      isHot = givenIsHot;\n",
        "    }\n",
        "```\n",
        "\n",
        "5. Add one or two *methods* that represent actions you can perform with your drink. For example, you might define a `sip()` method and a `castSpell()` method.\n",
        "\n",
        "```java\n",
        "    public void sip() {\n",
        "      System.out.println(\"Sipping the \" + flavor + \" Dragon Latte!\");\n",
        "    }\n",
        "\n",
        "    public void castSpell() {\n",
        "      System.out.println(\"You can now breathe fire!\");\n",
        "    }\n",
        "```\n",
        "\n",
        "6.   Save the file, and then *compile* it using `javac DragonLatte.java` (substituting the name of your file.)\n",
        "\n",
        "7.  Modify your `FantasiaCoffeeshop.java` file to include an option for ordering your new drink. Add the necessary code to create an instance of your new drink when the user selects it.\n",
        "\n",
        "```java\n",
        "    // Inside the while loop, add another menu option and case\n",
        "    System.out.println(\"4: Dragon Latte\");\n",
        "\n",
        "    // Inside the choice conditions, add a new case for Dragon Latte\n",
        "    else if (choice == 4) {\n",
        "      DragonLatte latte = new DragonLatte(\"green\", \"mint\", true);\n",
        "      latte.sip();\n",
        "      latte.castSpell();\n",
        "    }\n",
        "```\n",
        "\n",
        "8.  Finally, compile `FantasiaCoffeeshop.java` again and run it (using `java FantasiaCoffeeshop`) to see if your new drink appears on the menu and behaves as expected."
      ],
      "metadata": {
        "id": "Ef-1pEVWjHtG"
      }
    },
    {
      "cell_type": "markdown",
      "source": [
        "## The Java Standard Libray\n",
        "Great job on creating your own magical brew for Fantasia Coffeeshop! Now that you're familiar with the basics of writing classes, constructors, and methods in Java, let's step into the broader world of Java's magical ingredients---its Standard Library. Think of this library as an extensive, well-stocked pantry in the Fantasia Coffeeshop, offering a wide array of spices, teas, and magical herbs. Just as a well-stocked pantry allows a café to create a broader range of delectable drinks and pastries, the Java Standard Library empowers you to craft more intricate and powerful programs.\n",
        "\n",
        "The **Java Standard Library** is a collection of pre-written classes and methods that Java offers right out of the box. It's like the coffee shop's pantry mentioned earlier, filled with everything from common spices to exotic magical herbs. The library includes a variety of functionalities that eliminate the need for you to build everything from scratch. Want to sort a list of numbers? There's a method for that. Need to read from a file? There's a class for that.\n",
        "\n",
        "The library is organized into packages, each focused on a particular area of functionality. For instance:\n",
        "\n",
        "-   `java.util:` This package contains utility classes that deal with data structures like lists, sets, and maps. Imagine this as the section of the pantry that has various types of sugar, syrups, and sweeteners.\n",
        "\n",
        "-   `java.io:` This package is for input and output operations, like reading from or writing to files. Think of it as the recipe cards that guide you in creating various drinks.\n",
        "\n",
        "-   `java.math:` This package includes classes for performing advanced mathematical operations. Picture this as the precise measuring tools in your pantry.\n",
        "\n",
        "-   `java.lang:` This package contains fundamental classes that are automatically imported into every Java program. It's like the basic ingredients---water, milk, coffee---that you use in almost every drink. **We don't need an \"import\" statement for this package. It is included by default**\n",
        "\n",
        "There are many more! The Java Standard Library is a treasure trove of ready-to-use classes and methods that make your life as a programmer easier and more efficient. It's the well-stocked pantry that allows you to create a broad menu of offerings, without having to grow your own coffee beans or milk your own cows."
      ],
      "metadata": {
        "id": "7TQZW4V3mvMu"
      }
    },
    {
      "cell_type": "markdown",
      "source": [
        "You might not realize it, but we've already encountered a number of different classes and methods that are included in Java's Standard Libary. (Note: We don't need to \"import\" methods included in `java.lang`).\n",
        "\n",
        "-  `System.out.println:` When you printed text to the console, you used the `System` class and its `out` object, which is an instance of the `PrintStream` class. The `println` method belongs to `PrintStream`.\n",
        "\n",
        "    -   Class: `System`, `PrintStream`\n",
        "    -   Method: `println`\n",
        "    -   Package: `java.lang`, `java.io`\n",
        "    -   Example: `System.out.println(\"Welcome to Fantasia Coffeeshop!\");`\n",
        "-  `Scanner:` If you've read input from the user, you've utilized the `Scanner` class.\n",
        "\n",
        "    -   Class: `Scanner`\n",
        "    -   Method: `nextInt`, `nextLine`\n",
        "    -   Package: `java.util`\n",
        "    -   Example:\n",
        "    ```java\n",
        "    Scanner scanner = new Scanner(System.in);\n",
        "    int choice = scanner.nextInt();\n",
        "    ```\n",
        "\n",
        "-  `String:` When dealing with text, you've been using the `String` class, which offers a host of methods for text manipulation.\n",
        "\n",
        "    -   Class: `String`\n",
        "    -   Method: Implicitly, you've used the constructor to create new strings.\n",
        "    -   Package: `java.lang`\n",
        "    -   Example: `String myName = \"Gandalf\";`"
      ],
      "metadata": {
        "id": "2LO11BzTmpwp"
      }
    },
    {
      "cell_type": "markdown",
      "source": [
        "### String Methods\n",
        "Strings are like the words and sentences of a programming language---basic yet incredibly versatile. The `String` class in Java offers a rich set of methods to manipulate and query text, making it a go-to for a myriad of operations, much like how sugar and cream are staples for countless coffee drinks.\n",
        "\n",
        "### Common Methods for Working with Strings\n",
        "\n",
        "1. The `concat` method attaches one string at the end of another.\n",
        "\n",
        "```java\n",
        "String hello = \"Hello, \";\n",
        "String world = \"world!\";\n",
        "String helloWorld = hello.concat(world);  // \"Hello, world!\"\n",
        "```\n",
        "\n",
        "2. The `length` method gives you the number of characters in a string.\n",
        "\n",
        "```java\n",
        "String name = \"Gandalf\";\n",
        "int length = name.length();  // 7`\n",
        "```\n",
        "\n",
        "3.  The `substring` method extracts a part of a string.\n",
        "\n",
        "```java\n",
        "`String text = \"Unicorn\";\n",
        "String part = text.substring(2, 6);  // \"icor\"`\n",
        "```\n",
        "\n",
        "4.  The `charAt` method returns the character at a specified index.\n",
        "\n",
        "```java\n",
        "String word = \"Coffee\";\n",
        "char letter = word.charAt(3);  // 'f'`\n",
        "```\n",
        "\n",
        "5.  The `toUpperCase` and `toLowerCase` methods convert a string to all uppercase or all lowercase letters, respectively.\n",
        "\n",
        "```java\n",
        "String lower = \"mocha\";\n",
        "String upper = lower.toUpperCase();  // \"MOCHA\"`\n",
        "```\n",
        "\n",
        "6.  The `trim` method removes any leading and trailing whitespace.\n",
        "\n",
        "```java\n",
        "String raw = \"  Latte  \";\n",
        "String clean = raw.trim();  // \"Latte\"`\n",
        "```\n",
        "\n",
        "7. The `replace` method substitutes one set of characters with another.\n",
        "\n",
        "```java\n",
        "String original = \"Tea\";\n",
        "String replaced = original.replace('T', 'P');  // \"Pea\"\n",
        "```\n",
        "\n",
        "8.  The `startsWith` and `endsWith` methods check if a string begins or ends with certain characters.\n",
        "\n",
        "```java\n",
        "String potion = \"Elixir\";\n",
        "boolean starts = potion.startsWith(\"El\");  // true\n",
        "```\n",
        "\n",
        "9.  Equals and Equals Ignore Case: The `equals` and `equalsIgnoreCase` methods check for string equality.\n",
        "\n",
        "```java\n",
        "\n",
        "    String first = \"Java\";\n",
        "    String second = \"java\";\n",
        "    boolean isEqual = first.equalsIgnoreCase(second);  // true\n",
        "```\n",
        "\n",
        "These methods are just a few examples of what you can do with strings in Java. They provide a rich set of tools for text manipulation, allowing you to handle text in a flexible and powerful way. Just like a skillful barista knows how to craft a wide range of drinks by combining basic ingredients in various ways, understanding string methods will enable you to manipulate text proficiently in your Java programs."
      ],
      "metadata": {
        "id": "bedBdpyapE9M"
      }
    },
    {
      "cell_type": "markdown",
      "source": [
        "### Common Methods for Working with Math\n",
        "\n",
        "When it comes to the Math class in Java, think of it as the set of specialized tools and measuring instruments in your coffee shop. These are the items that let you brew your coffee to perfection, froth your milk to just the right consistency, and add that extra sprinkle of cinnamon at the precise angle. Similarly, the `Math` class provides a collection of static methods that help you perform mathematical operations with precision.\n",
        "\n",
        "\n",
        "1.  The `sqrt` method calculates the square root of a number.\n",
        "\n",
        "```java\n",
        "double root = Math.sqrt(25);  // Output: 5.0\n",
        "```\n",
        "\n",
        "2.  The `pow` method raises a number to the power of another.\n",
        "\n",
        "```java\n",
        "\n",
        "double result = Math.pow(2, 3);  // Output: 8.0\n",
        "```\n",
        "\n",
        "3.  Minimum and Maximum: The `min` and `max` methods find the smaller or larger of two numbers, respectively.\n",
        "\n",
        "```java\n",
        "int smallest = Math.min(3, 7);  // Output: 3\n",
        "int largest = Math.max(3, 7);  // Output: 7\n",
        "```\n",
        "\n",
        "4.  Random Numbers: The `random` method generates a random double between 0.0 and 1.0.\n",
        "\n",
        "```java\n",
        "double randomNum = Math.random();  // Output: Some random number like 0.5234639`\n",
        "```\n",
        "\n",
        "5.  Rounding: The `ceil`, `floor`, and `round` methods round numbers up, down, or to the nearest integer, respectively.\n",
        "\n",
        "```java\n",
        "\n",
        "double up = Math.ceil(4.2);  // Output: 5.0\n",
        "double down = Math.floor(4.8);  // Output: 4.0\n",
        "long nearest = Math.round(4.5);  // Output: 5`\n",
        "```\n",
        "\n",
        "These are just a handful of methods from the `Math` class, each serving a specific need for numerical operations. They are to programming what your measuring spoons and thermometers are to your coffee brewing---a way to achieve precision and perfection. Just like mastering the art of coffee-making takes practice and a deep understanding of your tools, becoming proficient in programming requires you to be familiar with these mathematical methods. They'll help you perform complex calculations and make your programs more robust and versatile."
      ],
      "metadata": {
        "id": "aTn1z_njq_xT"
      }
    },
    {
      "cell_type": "markdown",
      "source": [
        "### (Almost) Everything is an \"Object\"\n",
        "\n",
        "In your Fantasia Coffeeshop, let's say every drink---be it a Unicorn Frappé or a Fairy's Daydream---comes with a basic set of options: size, temperature, and a choice of cup (glass, plastic, or paper). You don't have to specify this for every new drink you invent; it's understood that these options are available for all of them.\n",
        "\n",
        "Similarly, in Java, when we say something is an \"Object,\" we mean it has a set of basic methods available to it by default, thanks to its lineage tracing back to the granddaddy `Object` class. Whether you're working with strings, numbers, custom classes, or even arrays, you can use these built-in methods because they're part of the Java language's DNA.\n",
        "\n",
        "This brings us to the idea of inheritance, one of the cornerstones of Object-Oriented Programming. **Inheritance** allows a class to adopt attributes and behaviors from another class. For instance, if we have a general class named Drink, which has attributes like color and taste, a more specific **subclass** like Coffee or Tea could inherit these attributes. Similarly, every Java class you create is, by default, a subclass of Object, inheriting its methods unless you specify otherwise. (We'll have much more to say on inheritance later.)\n",
        "\n",
        "\n",
        "1. You can compare any two objects to see if they are equal, using the `equals` method.\n",
        "```java\n",
        "String tea1 = new String(\"Green Tea\");\n",
        "String tea2 = new String(\"Green Tea\");\n",
        "boolean areEqual = tea1.equals(tea2);  // This would return true\n",
        "```\n",
        "\n",
        "2. Any object can be turned into its string representation using the `toString` method. This is handy for debugging or simple output.\n",
        "\n",
        "```java\n",
        "Integer myInteger = 42;\n",
        "String myString = myInteger.toString();  // Converts the integer to a string \"42\"\n",
        "```\n",
        "If you'd like to, you can \"override\" this toString method to make your object \"print\" the way you would like it (I'll provide an example below).\n",
        "\n",
        "\n",
        "Each object can produce an integer hash code via the `hashCode` method, useful in certain data structures like hash maps.\n",
        "```java\n",
        "String myString = \"Fantasia\";\n",
        "int hash = myString.hashCode();  // Calculates a hash code for the string\n",
        "```\n",
        "\n",
        "You can find out the class of an object using the `getClass` method.\n",
        "\n",
        "```java\n",
        "String myString = \"Hello\";\n",
        "Class stringClass = myString.getClass();  // Finds out that it's a String class\n",
        "```\n",
        "\n",
        "So, when you hear that something is an \"Object\" in Java, think of it as a menu item in your coffee shop that comes with a set of standard options. Just as any drink can be large or small, hot or cold, and served in different types of cups, any Object in Java comes with a set of methods that you can use right off the bat. It's a comfort to know that no matter how exotic or specialized your programming gets, these reliable, built-in options are always at your fingertips."
      ],
      "metadata": {
        "id": "ZxmtjZTptAHn"
      }
    },
    {
      "cell_type": "markdown",
      "source": [
        "## Sample Program: Magical Potion Mixer\n",
        "This program is meant to demonstrate some of the things we've learned above (about classes, methods, and the Standard Library). There are also a few ideas and concepts you haven't seen yet."
      ],
      "metadata": {
        "id": "gWp-GjAv1v_r"
      }
    },
    {
      "cell_type": "code",
      "source": [
        "%%writefile MagicPotionMixer.java\n",
        "\n",
        "// Importing the Scanner class for user input and Random class for generating random numbers\n",
        "import java.util.Scanner;\n",
        "import java.util.Random;\n",
        "\n",
        "// Main class definition\n",
        "public class MagicPotionMixer {\n",
        "\n",
        "    // Nested class definition for Potion\n",
        "    // New Technique: Classes can be nested inside other classes. Here, Potion is nested inside MagicPotionMixer.\n",
        "    public static class Potion {\n",
        "\n",
        "        // Class attributes\n",
        "        String baseDrink;\n",
        "        String ingredient1;\n",
        "        String ingredient2;\n",
        "        int powerLevel;\n",
        "\n",
        "        // Constructor definition\n",
        "        // New Technique: The 'this' keyword refers to the current instance of the class.\n",
        "        public Potion(String baseDrink, String ingredient1, String ingredient2, int powerLevel) {\n",
        "            this.baseDrink = baseDrink;\n",
        "            this.ingredient1 = ingredient1;\n",
        "            this.ingredient2 = ingredient2;\n",
        "            this.powerLevel = powerLevel;\n",
        "        }\n",
        "\n",
        "        // Override the toString method\n",
        "        // New Technique: The '@Override' annotation tells Java that we intend to override a method from the superclass (Object).\n",
        "        @Override\n",
        "        public String toString() {\n",
        "            return \"Your magical potion is a \" + this.baseDrink + \" infused with \" + this.ingredient1 + \" and \" + this.ingredient2 + \". Its power level is \" + this.powerLevel + \".\";\n",
        "        }\n",
        "    }\n",
        "\n",
        "    // The main method where execution begins\n",
        "    public static void main(String[] args) {\n",
        "\n",
        "        // Display a welcome message\n",
        "        System.out.println(\"Welcome to the Magic Potion Mixer!\");\n",
        "\n",
        "        // Ask the user for the base drink\n",
        "        Scanner scanner = new Scanner(System.in);\n",
        "        System.out.println(\"What is your base drink (e.g. Coffee or Tea)?\");\n",
        "        String baseDrink = scanner.nextLine();\n",
        "\n",
        "        // Ask for magical ingredients\n",
        "        System.out.println(\"Choose your first magical ingredient:\");\n",
        "        String ingredient1 = scanner.nextLine();\n",
        "        System.out.println(\"Choose your second magical ingredient:\");\n",
        "        String ingredient2 = scanner.nextLine();\n",
        "\n",
        "        // Convert to uppercase\n",
        "        baseDrink = baseDrink.toUpperCase();\n",
        "        ingredient1 = ingredient1.toUpperCase();\n",
        "        ingredient2 = ingredient2.toUpperCase();\n",
        "\n",
        "        // Randomly generate a power level\n",
        "        Random rand = new Random();\n",
        "        int powerLevel = rand.nextInt(100);  // Generate a random number between 0 and 99\n",
        "\n",
        "        // Create a Potion object\n",
        "        Potion potion = new Potion(baseDrink, ingredient1, ingredient2, powerLevel);\n",
        "\n",
        "        // Display the potion's details\n",
        "        System.out.println(potion.toString());\n",
        "    }\n",
        "}\n"
      ],
      "metadata": {
        "id": "YNSF5k0HjIbU",
        "outputId": "e333d5d9-60cd-4d16-9af0-e3db7231a708",
        "colab": {
          "base_uri": "https://localhost:8080/"
        }
      },
      "execution_count": 4,
      "outputs": [
        {
          "output_type": "stream",
          "name": "stdout",
          "text": [
            "Overwriting MagicPotionMixer.java\n"
          ]
        }
      ]
    },
    {
      "cell_type": "code",
      "source": [
        "!javac MagicPotionMixer.java"
      ],
      "metadata": {
        "id": "hNq5AfDqxXT9"
      },
      "execution_count": 2,
      "outputs": []
    },
    {
      "cell_type": "code",
      "source": [
        "!java MagicPotionMixer"
      ],
      "metadata": {
        "id": "2NJEbZbhxbJH",
        "outputId": "6be1e51b-0608-497c-9c21-86e73d925d24",
        "colab": {
          "base_uri": "https://localhost:8080/"
        }
      },
      "execution_count": 3,
      "outputs": [
        {
          "output_type": "stream",
          "name": "stdout",
          "text": [
            "Welcome to the Magic Potion Mixer!\n",
            "Choose your base drink: Coffee or Tea?\n",
            "Coffee\n",
            "Choose your first magical ingredient:\n",
            "Unicorn Hair\n",
            "Choose your second magical ingredient:\n",
            "Toad poop\n",
            "Your magical potion is a COFFEE infused with UNICORN HAIR and TOAD POOP. Its power level is 48.\n"
          ]
        }
      ]
    },
    {
      "cell_type": "markdown",
      "source": [
        "Here are a few of the more important ideas:\n",
        "\n",
        "**Nested classes.** In this program, we've chosen to nest the `Potion` class within the `MagicPotionMixer` class. Think of it like a special recipe book that only exists within the confines of a particular magical library. Nesting makes sense here because our `Potion` is a unique concept relevant only to the `MagicPotionMixer`. It's as if we're saying, \"Hey, the Potion is part of the magic we're mixing, and it doesn't need to exist outside of it!\"\n",
        "\n",
        "**The 'this' Keyword: Why Do We Need It?** When you're mixing a potion, it's essential to know which potion you're currently working on. Similarly, in a class with multiple attributes (like our `Potion` class), the `this` keyword helps us specify that we're talking about the attributes of the current object, or potion, we're making. It eliminates confusion, especially when the constructor's parameters have the same names as the class attributes.\n",
        "\n",
        "**Overriding the 'toString' Method.** Every object in Java is a child of the grandparent `Object` class, which comes with some default methods, including `toString`. This method usually spits out some technical details that don't mean much to us. By overriding it, we can make it tell us exactly what we want to know about our potion---in plain English!\n",
        "\n",
        "**Getting Input**. The `Scanner` class allows us to read what the user types into the console. It's like asking the customer, \"What'll you have today?\" and then listening carefully. We store these responses in variables so we can remember their choices and use them later.\n",
        "\n",
        "**Text Manipulation.**  To showcase Java's string manipulating methods, We convert the names of the base drink and ingredients to uppercase letters for uniformity.\n",
        "\n",
        "**Making Things Random.** Magic is unpredictable! To capture that, we use the `Random` class to generate a random \"power level\" for each potion. This adds a touch of excitement and unpredictability to our program, much like not knowing exactly how strong a spell will be until you cast it.\n",
        "\n",
        "Finally, we create a `Potion` object using all the data we've gathered and manipulated. Then we reveal it to the user, using the customized `toString` method to describe the potion in an exciting and informative way."
      ],
      "metadata": {
        "id": "5zJRaxo7zbg7"
      }
    },
    {
      "cell_type": "markdown",
      "source": [
        "## Exercise: Modifying the Magical Potion Mixer\n",
        "\n",
        "Start with the MagicalPotionMixer class above. Then, try altering it to do the following things.\n",
        "\n",
        "\n",
        "1.  Modify the welcome message that appears when the program starts.\n",
        "\n",
        "    -   Hint 1: Locate the line of code where the welcome message is printed to the console.\n",
        "    -   Hint 2: The message is a string inside a `System.out.println()` statement. Try altering the string to change the message.\n",
        "2.  Ask the user for a third magical ingredient and include it in the potion description.\n",
        "\n",
        "    -   Hint: Use the `Scanner` class to get a new ingredient from the user. Don't forget to include this new ingredient when constructing your `Potion` object.\n",
        "3.  Limit the power level range to be between 50 and 100.\n",
        "\n",
        "    -   Hint: You'll need to tweak how the random number for the power level is generated. Think about how you can adjust the range.\n",
        "4.  Display the ingredients list in alphabetical order.\n",
        "\n",
        "    -   Hint: Strings in Java can be compared using the `compareTo` method. Use conditional statements to arrange them alphabetically.\n",
        "5.  Add a caffeine level to the Potion class.\n",
        "\n",
        "    -   Hint: Introduce a new attribute in the `Potion` class and use an `if` statement to set its value based on whether the base drink is coffee, tea, or something else.\n",
        "\n",
        "### Challenge Problems (Optional)\n",
        "6.  Implement a 'describe' method in the `Potion` class.\n",
        "\n",
        "    -   Hint: Create a new method that uses `if-else` statements to print different descriptions based on the potion's power level.\n",
        "7.  Allow the user to name their potion.\n",
        "\n",
        "    -   Hint: Use the `Scanner` class to collect this new piece of information and include it in your `Potion` object.\n",
        "8.  Create a new class for Ingredients.\n",
        "\n",
        "    -   Hint: Define a new class with attributes like `name` and `magicalProperty`. Replace the string ingredients in `Potion` with `Ingredient` objects.\n",
        "9.  Add multiple constructors to the `Potion` class.\n",
        "\n",
        "    -   Hint: Java allows for more than one constructor as long as they have different parameter lists. Try adding a constructor that takes fewer parameters."
      ],
      "metadata": {
        "id": "zUOEKQOP00aG"
      }
    },
    {
      "cell_type": "code",
      "source": [],
      "metadata": {
        "id": "L9BGsWcDzcDK"
      },
      "execution_count": null,
      "outputs": []
    }
  ]
}