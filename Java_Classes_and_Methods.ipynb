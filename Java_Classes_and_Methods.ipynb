{
  "nbformat": 4,
  "nbformat_minor": 0,
  "metadata": {
    "colab": {
      "provenance": [],
      "authorship_tag": "ABX9TyPbwLJpwFGq3Mkvgun9oQgw",
      "include_colab_link": true
    },
    "kernelspec": {
      "name": "python3",
      "display_name": "Python 3"
    },
    "language_info": {
      "name": "python"
    }
  },
  "cells": [
    {
      "cell_type": "markdown",
      "metadata": {
        "id": "view-in-github",
        "colab_type": "text"
      },
      "source": [
        "<a href=\"https://colab.research.google.com/github/brendanpshea/java/blob/main/Java_Classes_and_Methods.ipynb\" target=\"_parent\"><img src=\"https://colab.research.google.com/assets/colab-badge.svg\" alt=\"Open In Colab\"/></a>"
      ]
    },
    {
      "cell_type": "code",
      "execution_count": null,
      "metadata": {
        "id": "axX_GGi1Px4n"
      },
      "outputs": [],
      "source": []
    },
    {
      "cell_type": "markdown",
      "source": [
        "# Object-Oriented Programming in Java\n",
        "**Object-Oriented Programming**, or OOP, is a programming paradigm that's a bit like a well-organized coffee shop. In this coffee shop, which we'll call \"Fantasia Café,\" everything is sorted by type: there's a counter for coffee, another for tea, and a display for pastries. Each type of item, whether it's a \"Witch's Brew Latte\" or a \"Hobbit Hole Donut,\" has its own set of characteristics and ways it interacts with the world. In OOP lingo, these are called attributes and methods. An attribute is a quality or characteristic. For instance, the \"Witch's Brew Latte\" might have attributes like \"strong\" or \"contains cinnamon.\" Methods are the behaviors or actions that can be performed on or by these items. For example, the latte could be \"brewed\" or \"sweetened.\"\n",
        "\n",
        "This way of organizing code is a bit different from **procedural programming**, the style often seen in Python although Python can do OOP as well. Procedural programming is more like a kitchen where you have a list of sequential recipes but not a clear categorization of what each recipe represents or how it relates to others. You might have a set of steps to make a coffee and another set of steps to make a pastry, but they aren't bundled together under a unifying theme. In this procedural kitchen, you focus on the steps or procedures to get to the end result. There's no elegant division that lets you say, \"Ah, these sets of steps are all variations of making coffee, and those over there are all about crafting pastries.\"\n",
        "\n",
        "In summary, OOP is about organizing your code into discrete \"objects\" that carry both data (attributes) and behaviors (methods), making it easier to manage and scale your programs. It's about knowing exactly where to find the \"Witch's Brew Latte\" and how to make it. Procedural programming, on the other hand, is more about simply having a list of instructions to prepare items, without a strong emphasis on how these instructions are grouped or related. So, while both can achieve the same result---a well-run coffee shop or a functioning program---the experience of getting there can be quite different."
      ],
      "metadata": {
        "id": "VQY1FBQLPyZa"
      }
    },
    {
      "cell_type": "markdown",
      "source": [
        "## Classes and Objects at the Cafe\n",
        "Imagine you've just walked into the Fantasia Café and marveling at all the magical drinks and pastries. You might wonder, \"How do they make each item so *consistently* magical?\"  In the world of Java programming, making something \"consistently magical\" is accomplished through something called a class. When people say Java is class-based, they mean that Java uses these **classes** as a sort of master recipe card to create specific things in your program.\n",
        "\n",
        "Now, what is a class? Picture a detailed recipe card for a special drink called \"Fairy's Daydream.\" This recipe card tells you everything about the drink: its color (let's say, sky blue), its taste (a hint of lavender), and how frothy it should be. These are like the ingredients and qualities that make \"Fairy's Daydream\" what it is.\n",
        "\n",
        "But a recipe card doesn't stop at the list of ingredients; it also tells you how to make the drink. Should you stir it clockwise or add the fairy dust before the moonwater? These are the steps or instructions.  In Java, the recipe card is a class. It tells you what qualities (in tech-speak, these are called **attributes**) the thing you're making should have. It also tells you how to make it, or the steps to follow (these are called **method**s in Java).\n",
        "\n",
        "Here's a super-simple Java example for our \"Fairy's Daydream\" drink:\n"
      ],
      "metadata": {
        "id": "dyuK69qIRDVs"
      }
    },
    {
      "cell_type": "code",
      "source": [
        "%%writefile FairysDaydream.java\n",
        "public class FairysDaydream {\n",
        "  // Qualities (like ingredients)\n",
        "  String color = \"sky blue\";\n",
        "  String taste = \"lavender\";\n",
        "  int frothLevel = 8;\n",
        "\n",
        "  // Instructions (like how to make the drink)\n",
        "  public void makeDrink() {\n",
        "    System.out.println(\"Making a \" + color + \" Fairy's Daydream with a taste of \" + taste);\n",
        "  }\n",
        "}\n"
      ],
      "metadata": {
        "colab": {
          "base_uri": "https://localhost:8080/"
        },
        "id": "M4X_yDaXP7zl",
        "outputId": "caf10d89-e371-4f44-da1f-dcad50426419"
      },
      "execution_count": 1,
      "outputs": [
        {
          "output_type": "stream",
          "name": "stdout",
          "text": [
            "Writing FairysDaydream.java\n"
          ]
        }
      ]
    },
    {
      "cell_type": "code",
      "source": [
        "!javac FairysDaydream.java"
      ],
      "metadata": {
        "id": "CvLcbJn-TnFT"
      },
      "execution_count": 9,
      "outputs": []
    },
    {
      "cell_type": "markdown",
      "source": [
        "In this example, `color`, `taste`, and `frothLevel` are the qualities (attributes) that every \"Fairy's Daydream\" will have. The `makeDrink()` part is the instruction (method) for making the drink.\n",
        "\n",
        "When you want to actually make a \"Fairy's Daydream,\" you'd use this class as a guide, just like a barista would use a recipe card to whip up the drink for you. (That is, you'd need to make an **object** based on this class in order to actually *do something*. More on this below!"
      ],
      "metadata": {
        "id": "Jy15eT14RcWe"
      }
    },
    {
      "cell_type": "markdown",
      "source": [
        "## What Makes a Class-y Class?\n",
        "Java's class-based approach approach can be very powerful. However, in order to get it to \"work\" for you, you need to train yourself to think in terms of \"objects\" and their properties. This process is somewhat like conceptualizing a new fantasy-themed drink for Fantasia Café. You'd start by thinking, \"What makes this drink unique?\" and \"What can you do with it?\" In Java, these questions parallel deciding on attributes and behaviors for your class.\n",
        "\n",
        "### Attributes: What Makes It Unique?\n",
        "\n",
        "First, let's talk about attributes. In the case of a fantasy-themed drink like \"Unicorn Frappé,\" you'd start by listing its distinctive features. What color is it? Does it have glitter? Is it dairy-free? These features are what make the \"Unicorn Frappé\" recognizable and distinct.\n",
        "\n",
        "In Java, these distinctive features are called attributes. When defining a class, you start by laying out these attributes using variables. For instance, if you're creating a class for the \"Unicorn Frappé,\" it might look something like this:\n",
        "\n",
        "```java\n",
        "public class UnicornFrappe {\n",
        "  String color = \"rainbow\";\n",
        "  boolean hasGlitter = true;\n",
        "  boolean isDairyFree = false;\n",
        "}\n",
        "```\n",
        "\n",
        "Here, `color`, `hasGlitter`, and `isDairyFree` are attributes that define what a \"Unicorn Frappé\" is.\n",
        "\n",
        "### Behaviors: What Can It Do?\n",
        "\n",
        "Next, you'd think about behaviors, or what you can do with this drink. Can you sip it? Is it so thick that you need to spoon it out? Maybe it even has a magical effect, like making you speak in rhymes for a minute!\n",
        "\n",
        "In Java, these behaviors are represented as methods, which are essentially functions contained within a class. Methods define what you can do with an object created from that class. For our \"Unicorn Frappé,\" let's say you can sip it and it has a magical effect. The class might then expand like this:\n"
      ],
      "metadata": {
        "id": "wqSSjKWwSzme"
      }
    },
    {
      "cell_type": "code",
      "source": [
        "%%writefile UnicornFrappe.java\n",
        "public class UnicornFrappe {\n",
        "  // Attributes\n",
        "  String color = \"rainbow\";\n",
        "  boolean hasGlitter = true;\n",
        "  boolean isDairyFree = false;\n",
        "\n",
        "  // Behaviors (Methods)\n",
        "  public void sip() {\n",
        "    System.out.println(\"Sipping the \" + color + \" Unicorn Frappé!\");\n",
        "  }\n",
        "\n",
        "  public void activateMagic() {\n",
        "    System.out.println(\"You can now speak in rhymes!\");\n",
        "  }\n",
        "}"
      ],
      "metadata": {
        "colab": {
          "base_uri": "https://localhost:8080/"
        },
        "id": "JyBEblfeTSbO",
        "outputId": "528da693-9471-4789-b5f9-e72d1a504575"
      },
      "execution_count": 7,
      "outputs": [
        {
          "output_type": "stream",
          "name": "stdout",
          "text": [
            "Overwriting UnicornFrappe.java\n"
          ]
        }
      ]
    },
    {
      "cell_type": "code",
      "source": [
        "!javac UnicornFrappe.java"
      ],
      "metadata": {
        "id": "SY7p0vzcRyVd"
      },
      "execution_count": 8,
      "outputs": []
    },
    {
      "cell_type": "markdown",
      "source": [
        "Now, we've added two methods: `sip()` and `activateMagic()`. These methods define the actions or behaviors that can be carried out on a \"Unicorn Frappé.\"\n",
        "\n",
        "### Putting It All Together: A Blueprint for the World\n",
        "\n",
        "Once you've decided on attributes and behaviors, you've essentially created a blueprint for making any number of \"Unicorn Frappés,\" each with the same basic features and capabilities. Similarly, in Java, once you've defined a class, you can create multiple objects based on that class. Each object will have the attributes and behaviors you've laid out.\n",
        "\n",
        "In short, defining a class is your first step in creating an object-oriented model of the world. This model helps you think about complex systems---like a café or a software program---as a collection of interacting objects. By understanding the attributes and behaviors that each type of object can have, you're better equipped to understand, build, and even troubleshoot the system as a whole. It's an immensely powerful way of making sense of the world, whether that world is a fantastical café or a piece of software."
      ],
      "metadata": {
        "id": "ROzbVgl-Txct"
      }
    },
    {
      "cell_type": "markdown",
      "source": [
        "## How to \"Construct\" Our Drinks\n",
        "In the world of Java, a **constructor** is the special method that takes the list of ingredients (or attributes) and crafts an actual instance of the drink (or object). It's a vital part of our class-based recipe system.\n",
        "\n",
        "Let's use the \"Unicorn Frappé\" as an example again. We already have a class blueprint that outlines what a \"Unicorn Frappé\" is made of and what it can do. But how do we go from this conceptual blueprint to an actual, sippable \"Unicorn Frappé\"? That's where the constructor comes in.\n",
        "\n",
        "In Java, you define a constructor using a special method that has the same name as the class and no return type. This constructor is automatically called when you create a new object from that class. Here's how it might look:"
      ],
      "metadata": {
        "id": "2RdUREX1U4DZ"
      }
    },
    {
      "cell_type": "code",
      "source": [
        "%%writefile UnicornFrappe.java\n",
        "public class UnicornFrappe {\n",
        "  // Attributes (Fields)\n",
        "  String color;\n",
        "  boolean hasGlitter;\n",
        "  boolean isDairyFree;\n",
        "\n",
        "  // Constructor\n",
        "  public UnicornFrappe(String givenColor, boolean givenGlitter, boolean givenDairyFree) {\n",
        "    color = givenColor;\n",
        "    hasGlitter = givenGlitter;\n",
        "    isDairyFree = givenDairyFree;\n",
        "  }\n",
        "\n",
        "  // Behaviors (Methods)\n",
        "  public void sip() {\n",
        "    System.out.println(\"Sipping the \" + color + \" Unicorn Frappé!\");\n",
        "  }\n",
        "\n",
        "  public void activateMagic() {\n",
        "    System.out.println(\"You can now speak in rhymes!\");\n",
        "  }\n",
        "}\n"
      ],
      "metadata": {
        "colab": {
          "base_uri": "https://localhost:8080/"
        },
        "id": "JMuPAn9xTxvt",
        "outputId": "3f651532-fc1b-495c-c516-a4e201e55e75"
      },
      "execution_count": 10,
      "outputs": [
        {
          "output_type": "stream",
          "name": "stdout",
          "text": [
            "Overwriting UnicornFrappe.java\n"
          ]
        }
      ]
    },
    {
      "cell_type": "code",
      "source": [
        "!javac UnicornFrappe.java"
      ],
      "metadata": {
        "id": "flR7DKdGVFKg"
      },
      "execution_count": 11,
      "outputs": []
    },
    {
      "cell_type": "markdown",
      "source": [
        "Notice the section labeled \"Constructor\"? That's our magical spell. When a barista—acting as the programmer—decides to make a new \"Unicorn Frappé,\" they would invoke this constructor and provide the necessary ingredients. In code, that would look something like this:\n",
        "\n",
        "```java\n",
        "UnicornFrappe myFrappe = new UnicornFrappe(\"rainbow\", true, false);\n",
        "```"
      ],
      "metadata": {
        "id": "C0H5BzM2VTwM"
      }
    },
    {
      "cell_type": "markdown",
      "source": [
        "## Adding Another Constructor\n",
        "Adding a constructor to your FairysDaydream class will give you the power to make customized variations of the \"Fairy's Daydream\" drink. Think of it as a master recipe card with optional twists—maybe you want a \"Fairy's Daydream: Sunset Edition\" with a \"rose gold\" color instead of the usual \"sky blue.\"\n",
        "\n",
        "To add a constructor, you'll create a special method within the class that has the same name as the class and no return type. This constructor will initialize the attributes (or qualities, as we've been calling them) of the object when it's created. Here's how to do it:"
      ],
      "metadata": {
        "id": "Upyg-T62XuRj"
      }
    },
    {
      "cell_type": "code",
      "source": [
        "%%writefile FairysDaydream.java\n",
        "public class FairysDaydream {\n",
        "  // Qualities (like ingredients)\n",
        "  String color;\n",
        "  String taste;\n",
        "  int frothLevel;\n",
        "\n",
        "  // Constructor\n",
        "  public FairysDaydream(String givenColor, String givenTaste, int givenFrothLevel) {\n",
        "    color = givenColor;\n",
        "    taste = givenTaste;\n",
        "    frothLevel = givenFrothLevel;\n",
        "  }\n",
        "\n",
        "  // Instructions (like how to make the drink)\n",
        "  public void makeDrink() {\n",
        "    System.out.println(\"Making a \" + color + \" Fairy's Daydream with a taste of \" + taste);\n",
        "  }\n",
        "}\n"
      ],
      "metadata": {
        "colab": {
          "base_uri": "https://localhost:8080/"
        },
        "id": "TIccfTXsX6gs",
        "outputId": "acfda4d5-9e20-4ee1-ed1d-88a31fa0e945"
      },
      "execution_count": 12,
      "outputs": [
        {
          "output_type": "stream",
          "name": "stdout",
          "text": [
            "Overwriting FairysDaydream.java\n"
          ]
        }
      ]
    },
    {
      "cell_type": "code",
      "source": [
        "!javac FairysDaydream.java"
      ],
      "metadata": {
        "id": "Cjdy_dBQYDmE"
      },
      "execution_count": 13,
      "outputs": []
    },
    {
      "cell_type": "markdown",
      "source": [
        "## Instantiang Objects With `new`\n",
        "\n",
        "In our Fantasia Café, imagine a barista picking up a magic wand and declaring, \"Let there be a Unicorn Frappé!\" The wand waves, and poof---a new Unicorn Frappé appears, ready to be sipped. In Java, the `new` keyword serves a similar purpose. It tells Java to allocate memory for a new object and then to call the constructor to initialize that object. Here's how we used it before:\n",
        "\n",
        "```java\n",
        "UnicornFrappe myFrappe = new UnicornFrappe(\"rainbow\", true, false);\n",
        "```\n",
        "\n",
        "In this line, `new UnicornFrappe(\"rainbow\", true, false)` is the magic incantation. `new` allocates the memory, and `UnicornFrappe(\"rainbow\", true, false)` calls the constructor to actually create the object.\n",
        "\n",
        "### Commonly Encountered Objects\n",
        "\n",
        "For beginners, it might be surprising to learn just how many things in Java are objects. Let's take a look at a few common examples:\n",
        "\n",
        "1.   When you create a text **String** in Java, you're actually creating an object of the `String` class.\n",
        "\n",
        "```java\n",
        "String myName = new String(\"Gandalf\");\n",
        "```\n",
        "\n",
        "2. If you're reading input from the user, you'll likely use a `Scanner` object.\n",
        "\n",
        "```java\n",
        "Scanner myScanner = new Scanner(System.in);\n",
        "```\n",
        "\n",
        "3.  **ArrayLists** are part of Java's Collections Framework and are essentially resizable arrays (very similar to Python lists)\n",
        "\n",
        "```java\n",
        "ArrayList<String> myDrinks = new ArrayList<String>();\n",
        "```\n",
        "\n",
        "Each of these examples uses the `new` keyword to create a new object, and each requires a constructor---even if that constructor is sometimes hidden from view.\n",
        "\n",
        "### Recognizing Objects in Java\n",
        "\n",
        "For newcomers, a key step in mastering Java is recognizing what things are objects. A general tip: if you're using `new`, you're dealing with objects. If you're invoking methods using dot notation (like `myScanner.nextLine()`), you're calling methods on objects. Java is teeming with objects, from the foundational building blocks like Strings to specialized constructs like Scanners or ArrayLists.\n",
        "\n",
        "So, the next time you see the `new` keyword, remember the barista waving a magic wand in our Fantasia Café. With that simple word, the world of Java springs to life, filled with objects ready to perform their roles in your program's unfolding narrative."
      ],
      "metadata": {
        "id": "EZ--vO81W6Mk"
      }
    },
    {
      "cell_type": "markdown",
      "source": [
        "## Making Methods\n",
        "Adding methods to classes in Java has some distinctive features when compared to Python, especially in terms of visibility, explicit data types, and the special role of the `main` method. These can be seen as the special instructions or advanced brewing techniques that make Java's way of doing things unique.\n",
        "\n",
        "### Visibility: The Secret Recipe\n",
        "\n",
        "In Java, you can define who has access to a method by setting its **visibility**. This is a bit like deciding who in the Fantasia Café can access the secret recipe for the \"Dragon's Breath Macchiato.\" In Java, the visibility keywords are `public`, `private`, `protected`, and package-private (no keyword).\n",
        "\n",
        "-   `public`: Any class can access this method.\n",
        "-   `private`: Only methods within the same class can access this method.\n",
        "-   `protected`: Only classes in the same **package** or subclasses can access this method.\n",
        "-   No keyword (package-private): Only classes in the same package can access this method.\n",
        "\n",
        "```java\n",
        "public class FairysDaydream {\n",
        "  // Public method\n",
        "  public void sip() {\n",
        "    System.out.println(\"Sip the magical brew!\");\n",
        "  }\n",
        "\n",
        "  // Private method\n",
        "  private void secretRecipe() {\n",
        "    System.out.println(\"Mixing secret fairy dust...\");\n",
        "  }\n",
        "}\n",
        "```\n",
        "\n",
        "### Explicit Data Types: The Exact Measurements\n",
        "\n",
        "Java is **strongly typed**, meaning you must be explicit about the type of data a method will return. It's like specifying that our \"Elven Espresso\" will always be served in exactly 4-ounce cups, no exceptions. In Python, you can be a bit more lax, serving the espresso in whatever cup is at hand. In Java, if a method is going to return an integer, you say so upfront with `int`. If it won't return anything, you use `void`.\n",
        "\n",
        "```java\n",
        "public class FairysDaydream {\n",
        "  // Method that returns an integer\n",
        "  public int getFrothLevel() {\n",
        "    return 8;\n",
        "  }\n",
        "\n",
        "  // Method that doesn't return anything\n",
        "  public void makeDrink() {\n",
        "    System.out.println(\"Making a Fairy's Daydream...\");\n",
        "  }\n",
        "}\n",
        "```\n",
        "\n",
        "### The Special Role of `main`: The Café's Grand Opening\n",
        "\n",
        "In Java, the `main` method is particularly special; it's the entry point for your program. When you run a Java application, it's like opening the doors to the Fantasia Café for the day. The `main` method is the first thing that gets executed, welcoming the customers (or users) and setting everything in motion.\n",
        "\n",
        "The `main` method always has the same signature:\n",
        "\n",
        "```java\n",
        "public static void main(String[] args) {\n",
        "  // Your code here\n",
        "}\n",
        "```\n",
        "\n",
        "-   `public`: It's accessible from anywhere, making it possible for the Java Virtual Machine (JVM) to run it.\n",
        "-   `static`: It belongs to the class itself, rather than any specific instance of the class.\n",
        "-   `void`: It doesn't return anything.\n",
        "-   `String[] args`: It accepts an array of strings as arguments, which you can use to pass data into your program when you run it.\n",
        "\n",
        "Here's how it might look in a simple Java program:\n",
        "\n",
        "```java\n",
        "public class FantasiaCafe {\n",
        "  public static void main(String[] args) {\n",
        "    System.out.println(\"Welcome to Fantasia Café, where dreams come true!\");\n",
        "    // Create a new Fairy's Daydream\n",
        "    FairysDaydream daydreamDrink = new FairysDaydream(\"sky blue\", \"lavender\", 8);\n",
        "    daydreamDrink.makeDrink();\n",
        "  }\n",
        "}\n",
        "```\n",
        "\n",
        "In this example, the `main` method welcomes customers to the Fantasia Café and then proceeds to make a \"Fairy's Daydream\" using the `FairysDaydream` class we defined earlier.\n",
        "\n",
        "Understanding these unique aspects of defining methods in Java---visibility, explicit data types, and the special role of `main`---is like learning the house rules and signature styles of Fantasia Café. It's a different experience from Python, but one that offers its own set of rewards and capabilities."
      ],
      "metadata": {
        "id": "F8H_ABYLYxp2"
      }
    },
    {
      "cell_type": "markdown",
      "source": [
        "## Putting It Altogther\n",
        "OK, we're finaly ready to open our coffeeshop! First, we'll create a new Java file called FantasiaCoffeeshop.java. This will be the main stage where the magic happens. It's like the café floor where customers will interact with the baristas (Unicorn Frappé and Fairy's Daydream).\n",
        "\n",
        "Here's how the FantasiaCoffeeshop.java file might look:"
      ],
      "metadata": {
        "id": "ujqd5oDtaQFP"
      }
    },
    {
      "cell_type": "code",
      "source": [
        "%%writefile FantasiaCoffeeshop.java\n",
        "import java.util.Scanner;\n",
        "\n",
        "public class FantasiaCoffeeshop {\n",
        "  public static void main(String[] args) {\n",
        "    // Welcome customers\n",
        "    System.out.println(\"Welcome to Fantasia Coffeeshop, where your magical caffeine dreams come true!\");\n",
        "\n",
        "    // Initialize Scanner to read input\n",
        "    Scanner scanner = new Scanner(System.in);\n",
        "\n",
        "    // Loop to keep offering choices\n",
        "    while (true) {\n",
        "      // Display menu options\n",
        "      System.out.println(\"What would you like to order?\");\n",
        "      System.out.println(\"1: Unicorn Frappé\");\n",
        "      System.out.println(\"2: Fairy's Daydream\");\n",
        "      System.out.println(\"3: Exit\");\n",
        "\n",
        "      // Get customer's choice\n",
        "      int choice = scanner.nextInt();\n",
        "\n",
        "      // Create drinks based on choice\n",
        "      if (choice == 1) {\n",
        "        UnicornFrappe frappe = new UnicornFrappe(\"rainbow\", true, false);\n",
        "        frappe.sip();\n",
        "        frappe.activateMagic();\n",
        "      } else if (choice == 2) {\n",
        "        FairysDaydream daydream = new FairysDaydream(\"sky blue\", \"lavender\", 8);\n",
        "        daydream.makeDrink();\n",
        "      } else if (choice == 3) {\n",
        "        System.out.println(\"Thank you for visiting Fantasia Coffeeshop! Have a magical day!\");\n",
        "        break;\n",
        "      } else {\n",
        "        System.out.println(\"Sorry, that's not a valid choice. Please choose again.\");\n",
        "      }\n",
        "    }\n",
        "\n",
        "    // Close the scanner\n",
        "    scanner.close();\n",
        "  }\n",
        "}\n"
      ],
      "metadata": {
        "colab": {
          "base_uri": "https://localhost:8080/"
        },
        "id": "JoFA0fvMadEr",
        "outputId": "90d9a08a-e36e-4c43-c3fa-b74fd2e70f67"
      },
      "execution_count": 19,
      "outputs": [
        {
          "output_type": "stream",
          "name": "stdout",
          "text": [
            "Overwriting FantasiaCoffeeshop.java\n"
          ]
        }
      ]
    },
    {
      "cell_type": "markdown",
      "source": [
        "### Compiling and Running Your Java Program\n",
        "\n",
        "Now comes the nitty-gritty part of compiling and running your Java program. Since Java is a compiled language, you'll need to compile each of your Java files into bytecode, and then you can run your main program.\n",
        "\n",
        "1. **Compile Each Java File.** Open a terminal, navigate to the directory where all your Java files are saved, and then compile each file:"
      ],
      "metadata": {
        "id": "MZi-18hGa0zE"
      }
    },
    {
      "cell_type": "code",
      "source": [
        "!javac UnicornFrappe.java\n",
        "!javac FairysDaydream.java\n",
        "# This final file won't compile without the other two\n",
        "!javac FantasiaCoffeeshop.java"
      ],
      "metadata": {
        "id": "0c7KGQxAXBDo"
      },
      "execution_count": 20,
      "outputs": []
    },
    {
      "cell_type": "markdown",
      "source": [
        "2. **Run the Main Program.** Once you've compiled all the classes, it's time to open Fantasia Coffeeshop for business by running the FantasiaCoffeeshop class:"
      ],
      "metadata": {
        "id": "lUX5yPOYbb_S"
      }
    },
    {
      "cell_type": "code",
      "source": [
        "!java FantasiaCoffeeshop"
      ],
      "metadata": {
        "colab": {
          "base_uri": "https://localhost:8080/"
        },
        "id": "mwmv3F21bfIb",
        "outputId": "fd97309b-9d4c-48e6-f9aa-6be4105513fe"
      },
      "execution_count": 21,
      "outputs": [
        {
          "output_type": "stream",
          "name": "stdout",
          "text": [
            "Welcome to Fantasia Coffeeshop, where your magical caffeine dreams come true!\n",
            "What would you like to order?\n",
            "1: Unicorn Frappé\n",
            "2: Fairy's Daydream\n",
            "3: Exit\n",
            "1\n",
            "Sipping the rainbow Unicorn Frappé!\n",
            "You can now speak in rhymes!\n",
            "What would you like to order?\n",
            "1: Unicorn Frappé\n",
            "2: Fairy's Daydream\n",
            "3: Exit\n",
            "2\n",
            "Making a sky blue Fairy's Daydream with a taste of lavender\n",
            "What would you like to order?\n",
            "1: Unicorn Frappé\n",
            "2: Fairy's Daydream\n",
            "3: Exit\n",
            "3\n",
            "Thank you for visiting Fantasia Coffeeshop! Have a magical day!\n"
          ]
        }
      ]
    }
  ]
}