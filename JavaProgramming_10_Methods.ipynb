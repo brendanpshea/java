{
  "nbformat": 4,
  "nbformat_minor": 0,
  "metadata": {
    "colab": {
      "provenance": [],
      "authorship_tag": "ABX9TyPmfrb6OzG6k0K7XGg0o1so",
      "include_colab_link": true
    },
    "kernelspec": {
      "name": "python3",
      "display_name": "Python 3"
    },
    "language_info": {
      "name": "python"
    }
  },
  "cells": [
    {
      "cell_type": "markdown",
      "metadata": {
        "id": "view-in-github",
        "colab_type": "text"
      },
      "source": [
        "<a href=\"https://colab.research.google.com/github/brendanpshea/java/blob/main/JavaProgramming_10_Methods.ipynb\" target=\"_parent\"><img src=\"https://colab.research.google.com/assets/colab-badge.svg\" alt=\"Open In Colab\"/></a>"
      ]
    },
    {
      "cell_type": "markdown",
      "source": [
        "In the realm of programming, think of a method as a trusted companion in your coding quest---much like a magical potion or enchanted sword in a game like Zelda. This companion is not just a chunk of code; a **method** a named sequence of statements designed to perform a specific task. For example, in a simple RPG game, you might have a method named `attackMonster` that reduces the monster's health points when called.\n",
        "\n",
        "In Python, you have something quite similar known as a **function.** If you've been using Python, you've likely written functions to do all sorts of things---like calculating the average score of a player or printing a welcome message. In essence, a Java method is a lot like a Python function but with some extra rules and syntax to follow.\n",
        "\n",
        "Let's illustrate this with a hypothetical RPG scenario. In Python, you might have a function that calculates the damage dealt to a monster:\n",
        "\n",
        "```python\n",
        "def calculate_damage(weapon_power, player_level):\n",
        "    return weapon_power * player_level\n",
        "```\n",
        "\n",
        "In Java, the equivalent method could look something like this:\n",
        "\n",
        "```java\n",
        "public static int calculateDamage(int weaponPower, int playerLevel) {\n",
        "    return weaponPower * playerLevel;\n",
        "}\n",
        "```\n",
        "\n",
        "Notice a few things here:\n",
        "\n",
        "-   In Java, we specify the return type (`int` in this case) before the method name. This tells us that `calculateDamage` will return an integer value.\n",
        "-   We also specify the data types of the parameters (`weaponPower` and `playerLevel` are both `int`).\n",
        "-   The method is labeled as `public` and `static`, which are access modifiers. The `public` keyword means the method can be accessed from other classes, and `static` means it belongs to the class itself rather than any specific instance.\n",
        "\n",
        "So, while the spirit of Python functions and Java methods is the same---to bundle code into reusable, named units---the rules of engagement are a bit different in Java. Think of it as the difference between using a bow and arrow and a magic wand. Both are tools for the same job---defeating monsters---but each comes with its own set of instructions and limitations."
      ],
      "metadata": {
        "id": "24OyKkEgWSdr"
      }
    },
    {
      "cell_type": "markdown",
      "source": [
        "## Why Use Methods?\n",
        "Imagine you're navigating a labyrinthine dungeon in a game like Zelda. You're not going to want to draw a new map each time you enter a room—that would be exhausting and inefficient. Instead, you'd refer to a master map that guides you through the maze. Similarly, in programming, methods serve as this master map, allowing you to write code once and use it multiple times.\n",
        "\n",
        "- **Code Reusability--**One of the core benefits of using methods is the ability to write a piece of code just once and reuse it throughout your program. Suppose in your RPG game, there's a recurring action like \"healing\" a player. Rather than rewriting the same lines of code every time you want to heal the player, you create a healPlayer method and call it whenever needed.\n",
        "\n",
        "- **Better Readability--** Methods make your code more readable by segmenting it into named blocks that perform specific tasks. This is like labeling rooms in a dungeon map as \"Treasure Room\" or \"Boss Lair.\" When someone else—or even future you—looks at the code, they can easily understand its structure and purpose.\n",
        "\n",
        "- **Easier Debugging--** When something goes wrong, it's much easier to troubleshoot a well-organized codebase that uses methods. If players aren't healing correctly in your game, you know to look at the healPlayer method, rather than sifting through hundreds of lines of code.\n",
        "\n",
        "Let's take an example unrelated to gaming for a moment to drive home these points. Imagine you want to calculate the area of a circle. Without using methods, your code might look like this:\n",
        "\n"
      ],
      "metadata": {
        "id": "_z7k5OORW7Y_"
      }
    },
    {
      "cell_type": "code",
      "source": [
        "%%writefile CircleArea.java\n",
        "public class CircleArea {\n",
        "    public static void main(String[] args) {\n",
        "        double radius1 = 5.0;\n",
        "        double area1 = 3.14159 * radius1 * radius1;\n",
        "        System.out.println(\"Area of circle with radius \" + radius1 + \" is \" + area1);\n",
        "\n",
        "        double radius2 = 10.0;\n",
        "        double area2 = 3.14159 * radius2 * radius2;\n",
        "        System.out.println(\"Area of circle with radius \" + radius2 + \" is \" + area2);\n",
        "    }\n",
        "}"
      ],
      "metadata": {
        "colab": {
          "base_uri": "https://localhost:8080/"
        },
        "id": "J9bwDOB7XzwW",
        "outputId": "123e95a6-4346-45ba-baa1-c3db398607c0"
      },
      "execution_count": 1,
      "outputs": [
        {
          "output_type": "stream",
          "name": "stdout",
          "text": [
            "Writing CircleArea.java\n"
          ]
        }
      ]
    },
    {
      "cell_type": "code",
      "source": [
        "!javac CircleArea.java"
      ],
      "metadata": {
        "id": "Rg8T9-Y3X5uY"
      },
      "execution_count": 2,
      "outputs": []
    },
    {
      "cell_type": "code",
      "source": [
        "!java CircleArea"
      ],
      "metadata": {
        "colab": {
          "base_uri": "https://localhost:8080/"
        },
        "id": "yZn6fHycX950",
        "outputId": "f5b2f6d4-85d7-44a1-ec16-d1766d1f4284"
      },
      "execution_count": 3,
      "outputs": [
        {
          "output_type": "stream",
          "name": "stdout",
          "text": [
            "Area of circle with radius 5.0 is 78.53975\n",
            "Area of circle with radius 10.0 is 314.159\n"
          ]
        }
      ]
    },
    {
      "cell_type": "markdown",
      "source": [
        "Now, let's use a method to do the same thing:\n",
        "\n"
      ],
      "metadata": {
        "id": "qOPAJMcSXjrG"
      }
    },
    {
      "cell_type": "code",
      "source": [
        "%%writefile CircleAreaImproved.java\n",
        "public class CircleAreaImproved {\n",
        "    public static void main(String[] args) {\n",
        "        System.out.println(\"Area of circle with radius 5.0 is \" + calculateArea(5.0));\n",
        "        System.out.println(\"Area of circle with radius 10.0 is \" + calculateArea(10.0));\n",
        "    }\n",
        "\n",
        "    public static double calculateArea(double radius) {\n",
        "        return 3.14159 * radius * radius;\n",
        "    }\n",
        "}"
      ],
      "metadata": {
        "colab": {
          "base_uri": "https://localhost:8080/"
        },
        "id": "hJxZLnt4ZbFg",
        "outputId": "955228b7-4c04-4338-bf2d-400ed2cf45ba"
      },
      "execution_count": 4,
      "outputs": [
        {
          "output_type": "stream",
          "name": "stdout",
          "text": [
            "Writing CircleAreaImproved.java\n"
          ]
        }
      ]
    },
    {
      "cell_type": "code",
      "source": [
        "!javac CircleAreaImproved.java"
      ],
      "metadata": {
        "id": "QlFQuiyhZts9"
      },
      "execution_count": 5,
      "outputs": []
    },
    {
      "cell_type": "code",
      "source": [
        "!java CircleAreaImproved"
      ],
      "metadata": {
        "colab": {
          "base_uri": "https://localhost:8080/"
        },
        "id": "ecFLRVmmZx8g",
        "outputId": "60f51a1b-22ef-4fd6-94f8-ec7195062b21"
      },
      "execution_count": 6,
      "outputs": [
        {
          "output_type": "stream",
          "name": "stdout",
          "text": [
            "Area of circle with radius 5.0 is 78.53975\n",
            "Area of circle with radius 10.0 is 314.159\n"
          ]
        }
      ]
    },
    {
      "cell_type": "markdown",
      "source": [
        "The second version is cleaner, easier to read, and more efficient. If you ever need to change how the area is calculated—say, using a more accurate value for Pi—you only have to make that change in one place: the calculateArea method.\n",
        "\n",
        "Methods are like the utility belt of a hero—each one is a tool designed for a specific task. Once you've crafted a good tool, you can keep using it in various situations, saving both time and effort. So, the next time you find yourself copying and pasting code, remember: a method could be your knight in shining armor."
      ],
      "metadata": {
        "id": "k6bLcEydXj7l"
      }
    },
    {
      "cell_type": "code",
      "execution_count": null,
      "metadata": {
        "id": "mxlI5HDXWRwX"
      },
      "outputs": [],
      "source": []
    }
  ]
}