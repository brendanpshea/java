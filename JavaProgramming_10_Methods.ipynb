{
  "nbformat": 4,
  "nbformat_minor": 0,
  "metadata": {
    "colab": {
      "provenance": [],
      "authorship_tag": "ABX9TyPsbP9trgVBjZK5xQIEiEbo",
      "include_colab_link": true
    },
    "kernelspec": {
      "name": "python3",
      "display_name": "Python 3"
    },
    "language_info": {
      "name": "python"
    }
  },
  "cells": [
    {
      "cell_type": "markdown",
      "metadata": {
        "id": "view-in-github",
        "colab_type": "text"
      },
      "source": [
        "<a href=\"https://colab.research.google.com/github/brendanpshea/java/blob/main/JavaProgramming_10_Methods.ipynb\" target=\"_parent\"><img src=\"https://colab.research.google.com/assets/colab-badge.svg\" alt=\"Open In Colab\"/></a>"
      ]
    },
    {
      "cell_type": "markdown",
      "source": [
        "In the realm of programming, think of a method as a trusted companion in your coding quest---much like a magical potion or enchanted sword in a game like Zelda. This companion is not just a chunk of code; a **method** a named sequence of statements designed to perform a specific task. For example, in a simple RPG game, you might have a method named `attackMonster` that reduces the monster's health points when called.\n",
        "\n",
        "In Python, you have something quite similar known as a **function.** If you've been using Python, you've likely written functions to do all sorts of things---like calculating the average score of a player or printing a welcome message. In essence, a Java method is a lot like a Python function but with some extra rules and syntax to follow.\n",
        "\n",
        "Let's illustrate this with a hypothetical RPG scenario. In Python, you might have a function that calculates the damage dealt to a monster:\n",
        "\n",
        "```python\n",
        "def calculate_damage(weapon_power, player_level):\n",
        "    return weapon_power * player_level\n",
        "```\n",
        "\n",
        "In Java, the equivalent method could look something like this:\n",
        "\n",
        "```java\n",
        "public static int calculateDamage(int weaponPower, int playerLevel) {\n",
        "    return weaponPower * playerLevel;\n",
        "}\n",
        "```\n",
        "\n",
        "Notice a few things here:\n",
        "\n",
        "-   In Java, we specify the return type (`int` in this case) before the method name. This tells us that `calculateDamage` will return an integer value.\n",
        "-   We also specify the data types of the parameters (`weaponPower` and `playerLevel` are both `int`).\n",
        "-   The method is labeled as `public` and `static`, which are access modifiers. The `public` keyword means the method can be accessed from other classes, and `static` means it belongs to the class itself rather than any specific instance.\n",
        "\n",
        "So, while the spirit of Python functions and Java methods is the same---to bundle code into reusable, named units---the rules of engagement are a bit different in Java. Think of it as the difference between using a bow and arrow and a magic wand. Both are tools for the same job---defeating monsters---but each comes with its own set of instructions and limitations."
      ],
      "metadata": {
        "id": "24OyKkEgWSdr"
      }
    },
    {
      "cell_type": "markdown",
      "source": [
        "## Why Use Methods?\n",
        "Imagine you're navigating a labyrinthine dungeon in a game like Zelda. You're not going to want to draw a new map each time you enter a room—that would be exhausting and inefficient. Instead, you'd refer to a master map that guides you through the maze. Similarly, in programming, methods serve as this master map, allowing you to write code once and use it multiple times.\n",
        "\n",
        "- **Code Reusability--**One of the core benefits of using methods is the ability to write a piece of code just once and reuse it throughout your program. Suppose in your RPG game, there's a recurring action like \"healing\" a player. Rather than rewriting the same lines of code every time you want to heal the player, you create a healPlayer method and call it whenever needed.\n",
        "\n",
        "- **Better Readability--** Methods make your code more readable by segmenting it into named blocks that perform specific tasks. This is like labeling rooms in a dungeon map as \"Treasure Room\" or \"Boss Lair.\" When someone else—or even future you—looks at the code, they can easily understand its structure and purpose.\n",
        "\n",
        "- **Easier Debugging--** When something goes wrong, it's much easier to troubleshoot a well-organized codebase that uses methods. If players aren't healing correctly in your game, you know to look at the healPlayer method, rather than sifting through hundreds of lines of code.\n",
        "\n",
        "Let's take an example unrelated to gaming for a moment to drive home these points. Imagine you want to calculate the area of a circle. Without using methods, your code might look like this:\n",
        "\n"
      ],
      "metadata": {
        "id": "_z7k5OORW7Y_"
      }
    },
    {
      "cell_type": "code",
      "source": [
        "%%writefile CircleArea.java\n",
        "public class CircleArea {\n",
        "    public static void main(String[] args) {\n",
        "        double radius1 = 5.0;\n",
        "        double area1 = 3.14159 * radius1 * radius1;\n",
        "        System.out.println(\"Area of circle with radius \" + radius1 + \" is \" + area1);\n",
        "\n",
        "        double radius2 = 10.0;\n",
        "        double area2 = 3.14159 * radius2 * radius2;\n",
        "        System.out.println(\"Area of circle with radius \" + radius2 + \" is \" + area2);\n",
        "    }\n",
        "}"
      ],
      "metadata": {
        "colab": {
          "base_uri": "https://localhost:8080/"
        },
        "id": "J9bwDOB7XzwW",
        "outputId": "123e95a6-4346-45ba-baa1-c3db398607c0"
      },
      "execution_count": null,
      "outputs": [
        {
          "output_type": "stream",
          "name": "stdout",
          "text": [
            "Writing CircleArea.java\n"
          ]
        }
      ]
    },
    {
      "cell_type": "code",
      "source": [
        "!javac CircleArea.java"
      ],
      "metadata": {
        "id": "Rg8T9-Y3X5uY"
      },
      "execution_count": null,
      "outputs": []
    },
    {
      "cell_type": "code",
      "source": [
        "!java CircleArea"
      ],
      "metadata": {
        "colab": {
          "base_uri": "https://localhost:8080/"
        },
        "id": "yZn6fHycX950",
        "outputId": "f5b2f6d4-85d7-44a1-ec16-d1766d1f4284"
      },
      "execution_count": null,
      "outputs": [
        {
          "output_type": "stream",
          "name": "stdout",
          "text": [
            "Area of circle with radius 5.0 is 78.53975\n",
            "Area of circle with radius 10.0 is 314.159\n"
          ]
        }
      ]
    },
    {
      "cell_type": "markdown",
      "source": [
        "Now, let's use a method to do the same thing:\n",
        "\n"
      ],
      "metadata": {
        "id": "qOPAJMcSXjrG"
      }
    },
    {
      "cell_type": "code",
      "source": [
        "%%writefile CircleAreaImproved.java\n",
        "public class CircleAreaImproved {\n",
        "    public static void main(String[] args) {\n",
        "        System.out.println(\"Area of circle with radius 5.0 is \" + calculateArea(5.0));\n",
        "        System.out.println(\"Area of circle with radius 10.0 is \" + calculateArea(10.0));\n",
        "    }\n",
        "\n",
        "    public static double calculateArea(double radius) {\n",
        "        return 3.14159 * radius * radius;\n",
        "    }\n",
        "}"
      ],
      "metadata": {
        "colab": {
          "base_uri": "https://localhost:8080/"
        },
        "id": "hJxZLnt4ZbFg",
        "outputId": "955228b7-4c04-4338-bf2d-400ed2cf45ba"
      },
      "execution_count": null,
      "outputs": [
        {
          "output_type": "stream",
          "name": "stdout",
          "text": [
            "Writing CircleAreaImproved.java\n"
          ]
        }
      ]
    },
    {
      "cell_type": "code",
      "source": [
        "!javac CircleAreaImproved.java"
      ],
      "metadata": {
        "id": "QlFQuiyhZts9"
      },
      "execution_count": null,
      "outputs": []
    },
    {
      "cell_type": "code",
      "source": [
        "!java CircleAreaImproved"
      ],
      "metadata": {
        "colab": {
          "base_uri": "https://localhost:8080/"
        },
        "id": "ecFLRVmmZx8g",
        "outputId": "60f51a1b-22ef-4fd6-94f8-ec7195062b21"
      },
      "execution_count": null,
      "outputs": [
        {
          "output_type": "stream",
          "name": "stdout",
          "text": [
            "Area of circle with radius 5.0 is 78.53975\n",
            "Area of circle with radius 10.0 is 314.159\n"
          ]
        }
      ]
    },
    {
      "cell_type": "markdown",
      "source": [
        "The second version is cleaner, easier to read, and more efficient. If you ever need to change how the area is calculated—say, using a more accurate value for Pi—you only have to make that change in one place: the calculateArea method.\n"
      ],
      "metadata": {
        "id": "k6bLcEydXj7l"
      }
    },
    {
      "cell_type": "markdown",
      "source": [
        "## Declaring Methods\n",
        "Declaring a method in Java is like forging a magical artifact in a game like Zelda. You imbue it with specific properties, bestow upon it a unique name, and set rules for who can and cannot wield it. Each of these steps corresponds to an element in the method declaration.\n",
        "\n",
        "1. The first word in the method declaration often specifies its **accessibility**. For example, if a method is `public`, it can be accessed from any other class in your game. If it's `private`, only methods within the same class can call it. It's like deciding whether your magical artifact can be used by anyone in the kingdom or just a select few.\n",
        "\n",
        "2. Next, you specify what type of value the method will **return**. If your method calculates the damage dealt in an attack, it might return an `int` representing that damage. If it doesn't return any value, you would use the keyword `void`.\n",
        "\n",
        "3. The **method name** follows the return type, and it should be a verb that describes what the method does. Java follows the camelCase naming convention, so the first word starts with a lower-case letter, and each subsequent word starts with an upper-case letter, like `findTreasure` or `attackMonster`.\n",
        "\n",
        "4. Inside the parentheses following the method name, you define any **parameters** the method needs, specifying their type. If a monster attack method needs the player's weapon and strength level, you'd declare those inside these parentheses. As with the return type, you'll need to specify the data type of each parameter. It's like knowing which ingredients are needed to cast a spell.\n",
        "\n",
        "Here's how these elements come together to declare a method that calculates a player's attack damage in our simple RPG game:\n",
        "\n",
        "```java\n",
        "public static int calculateAttackDamage(int weaponPower, int playerLevel) {\n",
        "    int damage = weaponPower * playerLevel;\n",
        "    return damage;\n",
        "}`\n",
        "\n",
        "```\n",
        "\n",
        "-   `public` is the Access Modifier\n",
        "-   `static` indicates that the method belongs to the class and not a specific instance of it.\n",
        "-   `int` is the Return Type\n",
        "-   `calculateAttackDamage` is the Method Name\n",
        "-   `(int weaponPower, int playerLevel)` are the Parameters\n",
        "\n",
        "Once this method is declared, it's like having a ready-to-use spell in your spellbook. You can cast it---call it---whenever you need, as long as you provide the necessary ingredients---parameters. And just like that, your code becomes a little more magical, powerful, and much easier to manage."
      ],
      "metadata": {
        "id": "1w56efTTK5S8"
      }
    },
    {
      "cell_type": "code",
      "execution_count": null,
      "metadata": {
        "id": "mxlI5HDXWRwX"
      },
      "outputs": [],
      "source": []
    }
  ]
}