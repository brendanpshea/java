{
 "cells": [
  {
   "cell_type": "markdown",
   "metadata": {},
   "source": [
    "**Computer Science** is the study of computers and computational systems. But it's far more than just learning how to program or how to use a computer. At its core, computer science is about solving problems. It's a discipline that combines elements of mathematics, to provide the rigor and theoretical underpinning; engineering, for the practical aspects of making things work; and even philosophy, to consider the ethical and logical implications of our digital creations. It's a blend that allows us to tackle a broad range of challenges, from making sense of huge data sets to understanding human behavior.\n",
    "\n",
    "Why should you study it? Well, we live in a world increasingly defined by data and computation. From healthcare and environmental science to entertainment and social interactions, nearly every field is being transformed by our ability to collect, analyze, and interpret data. Understanding computer science gives you the tools to be an active participant in this transformation, rather than just a passive consumer of technology.\n",
    "\n",
    "One of the central elements of computer science is the study of **algorithms**, which are sets of instructions for performing a specific task. Algorithms are everywhere---in the search engine that finds you the best recipe for chocolate chip cookies, in the GPS that finds the shortest route home, and even in the social media algorithms that decide which posts you see. Learning about algorithms helps you understand the \"logic\" behind the digital world, giving you the power to create new tools, solve complex problems, and even predict future events based on data.\n",
    "\n",
    "But computer science isn't just about practical skills; it also has significant real-world import. It helps us tackle some of the most pressing ethical and societal issues of our time. Think about the debates around data privacy, artificial intelligence, and ethical computing. Understanding the fundamentals of computer science equips you not just with the skills to build the next killer app, but also the wisdom to consider its impact on society. In essence, computer science offers a powerful lens through which we can understand our world and act upon it."
   ]
  },
  {
   "cell_type": "markdown",
   "metadata": {},
   "source": [
    "## What is a Computer Program?\n",
    "A **computer program** is essentially a set of instructions that tells a computer what to do. Imagine you're cooking dinner from a recipe. The recipe outlines steps like chopping onions, heating oil, and adding spices. In the same way, a program lists out steps for the computer to follow. But instead of making a dish, the computer might be calculating the trajectory of a satellite, displaying a web page, or sorting a list of names. Programs are written in programming languages like Java, Python, or C++, each with its own rules and syntax, much like human languages have grammar and vocabulary.\n",
    "\n",
    "Now, a program is often built around one or more algorithms. An algorithm is a specific sequence of steps designed to solve a particular problem. For example, let's say you have a deck of cards and you want to arrange them in ascending order. One algorithm to do this is called \"Bubble Sort,\" which involves repeatedly swapping adjacent cards if they are in the wrong order. This algorithm guarantees that after enough swaps, the deck will be sorted. Algorithms like Bubble Sort are the building blocks of programs, providing a structured approach to problem-solving.\n",
    "\n",
    "The relationship between programs and algorithms is a bit like that of a play and its scenes. Each scene in a play has its own structure and purpose, contributing to the overall story. Similarly, each algorithm within a program has a specific task, whether it's sorting data, finding the shortest path on a map, or predicting the weather. By stringing together different algorithms, a program can perform complex, multifaceted tasks."
   ]
  },
  {
   "cell_type": "markdown",
   "metadata": {},
   "source": [
    "## What is  Java?\n",
    "**Java** is a **high-level programming language** that was developed by Sun Microsystems, now owned by Oracle Corporation. Java is known for its portability, which means that you can run a Java program on almost any device that has a Java Virtual Machine (JVM). This makes it a popular choice for everything from web servers and mobile apps to enterprise software and even Internet of Things (IoT) devices.\n",
    "\n",
    "Java has a strong emphasis on **object-oriented programming**, a paradigm that encourages you to structure your code as a collection of \"objects\" that interact with each other. This approach is akin to how we organize the real world: you can think of a car as an object with properties like color and speed, and methods like start and stop. Object-oriented programming makes it easier to manage complexity, reuse code, and model real-world problems.\n",
    "\n",
    "Now, let's get to writing a simple \"Hello, World!\" program in Java. This is the quintessential beginner's exercise, aimed at demonstrating the basic syntax for outputting text to the screen. Here's how you do it:"
   ]
  },
  {
   "cell_type": "code",
   "execution_count": 4,
   "metadata": {
    "vscode": {
     "languageId": "java"
    }
   },
   "outputs": [],
   "source": [
    "// This is my first Java program\n",
    "public class HelloWorld {\n",
    "  \n",
    "    // The main method is where the program starts\n",
    "    public static void main(String[] args) {\n",
    "      \n",
    "      // This line prints \"Hello, World!\" to the console\n",
    "      System.out.println(\"Hello, World!\");\n",
    "    }\n",
    "  }"
   ]
  },
  {
   "cell_type": "code",
   "execution_count": 3,
   "metadata": {
    "vscode": {
     "languageId": "java"
    }
   },
   "outputs": [
    {
     "name": "stdout",
     "output_type": "stream",
     "text": [
      "Hello, World!\n"
     ]
    }
   ],
   "source": [
    "// This calls the main method\n",
    "HelloWorld.main(null);"
   ]
  },
  {
   "cell_type": "markdown",
   "metadata": {},
   "source": [
    "Let's break this down:\n",
    "\n",
    "-   `public class HelloWorld`: Here, we're declaring a class named `HelloWorld`. In Java, every program must have at least one class.\n",
    "\n",
    "-   `public static void main(String[] args)`: This line defines the main method, the starting point for the execution of any Java program. The `main` method is like the director yelling \"Action!\" on a film set---it tells the computer where to start running the code.\n",
    "\n",
    "-   `System.out.println(\"Hello, World!\");`: This line uses Java's built-in `System.out.println` method to print the message \"Hello, World!\" to the console. Think of this as the actual action, the main event that we wanted to occur."
   ]
  },
  {
   "cell_type": "markdown",
   "metadata": {},
   "source": [
    "In Java, the curly braces are used to define a **block** of code. Everything between the opening `{` and closing `}` is considered part of the same block. In our \"Hello, World!\" example, the entire program is enclosed in a set of curly braces to signify that it's all part of the `HelloWorld` class. Similarly, the `main` method is also wrapped in its own set of curly braces. Think of these like the boundaries of a playground; everything inside the fence is part of the same play area.\n",
    "\n",
    "On the other hand, parentheses are used primarily for **methods** and **function calls((. In the `main` method declaration, `public static void main(String[] args)`, the parentheses contain the parameters that the method takes. In this case, it's taking an array of strings called `args`, which could be used to capture any command-line arguments if needed. When we call `System.out.println(\"Hello, World!\");`, the text we want to print is enclosed in parentheses, indicating what we're passing into the `println` method as an argument.\n",
    "\n",
    "Finally, Java is case-sensitive. This means that `HelloWorld`, `helloworld`, and `HELLOWORLD` would be considered different identifiers. It's crucial to get the capitalization right, or else the program won't run as expected. For instance, the `System` class starts with a capital 'S', and `println` is all in lowercase. If you wrote them differently, the compiler would throw an error, bewildered by these unknown names.\n",
    "\n",
    "Understanding these basic elements---the curly braces that define blocks of code, the parentheses that specify method parameters and function calls, and the case-sensitive nature of Java---can go a long way in helping you write and debug programs. They're like the basic rules of grammar: knowing them well allows you to craft meaningful sentences, which are the building blocks of compelling stories."
   ]
  },
  {
   "cell_type": "markdown",
   "metadata": {},
   "source": [
    "## How Do I Run a Java Program\n",
    "Running a Java program is a two-step process: **compilation** and **execution**. Let's explore each step, and then I'll delve into what's happening under the hood.\n",
    "\n",
    "### Compilation\n",
    "\n",
    "First, you write your Java code in a text file with a `.java` extension. For instance, our \"Hello, World!\" program would be saved in a file named `HelloWorld.java`. Once that's done, you use the Java compiler, typically invoked by the command `javac`, to compile this source code into bytecode. Here's how you'd do it in a terminal:\n",
    "\n",
    "`javac HelloWorld.java`\n",
    "\n",
    "If the compilation is successful, this will generate a file named `HelloWorld.class` containing the bytecode.\n",
    "\n",
    "### Execution\n",
    "\n",
    "Now that you have the bytecode, you need the Java Virtual Machine (JVM) to run it. You execute the program using the `java` command like this:\n",
    "\n",
    "`java HelloWorld`\n",
    "\n",
    "This should output `Hello, World!` on your terminal.\n",
    "\n",
    "### Under the Hood\n",
    "\n",
    "So, what's actually happening during these steps?\n",
    "\n",
    "1.  Compilation: The Java compiler takes your high-level, human-readable `.java` file and turns it into a lower-level, machine-independent `.class` file containing bytecode. Bytecode is a set of instructions that is a middle ground between source code and machine code. It's not tied to any specific computer architecture, which is what allows Java to be platform-independent.\n",
    "\n",
    "2.  Execution: When you run the `java` command, it launches the JVM, which loads the `.class` file. The JVM is an interpreter for bytecode, effectively acting as a virtual computer that understands Java's machine-independent instructions. It translates the bytecode into machine code that's specific to the hardware you're using, allowing the program to run.\n",
    "\n",
    "The two-step process of compilation and execution enables Java's core philosophy of \"Write Once, Run Anywhere\" (WORA). You write and compile your code once, and the resulting bytecode can run on any device that has a compatible JVM.\n",
    "\n",
    "In a nutshell, compiling turns your Java source code into a universal language (bytecode) that can be understood by JVMs on different platforms. When you run the program, the JVM translates this universal language into the native tongue of your specific computer, allowing it to execute the instructions. This is akin to writing a play that can be performed by any theater group, anywhere in the world, regardless of their native language, because they all understand the \"universal language\" of the script."
   ]
  },
  {
   "cell_type": "markdown",
   "metadata": {},
   "source": [
    "## Printing to the Screen With System.out.println\n",
    "\"Printing to the screen\" in Java usually means displaying text or numbers in the console, which is a text-based interface. The command for this in Java is `System.out.println()`. You place what you want to print inside the parentheses, and Java will display it in the console when you run the program.\n",
    "\n",
    "\n",
    "**Concatenation:** You can combine, or \"concatenate,\" strings and other types of data directly within the `println()` statement. But the result might not always be what you expect.\n"
   ]
  },
  {
   "cell_type": "code",
   "execution_count": 5,
   "metadata": {
    "vscode": {
     "languageId": "java"
    }
   },
   "outputs": [
    {
     "name": "stdout",
     "output_type": "stream",
     "text": [
      "Hello, World!42\n"
     ]
    }
   ],
   "source": [
    "System.out.println(\"Hello, World!\" + 4 + 2);"
   ]
  },
  {
   "cell_type": "code",
   "execution_count": 7,
   "metadata": {
    "vscode": {
     "languageId": "java"
    }
   },
   "outputs": [
    {
     "name": "stdout",
     "output_type": "stream",
     "text": [
      "6Hello, World!\n"
     ]
    }
   ],
   "source": [
    "System.out.println(4 + 2 + \"Hello, World!\");"
   ]
  },
  {
   "cell_type": "markdown",
   "metadata": {},
   "source": [
    "**print** vs **printlin**. Using `println()` adds a new line after the message. If you don't want that, use `print()` instead."
   ]
  },
  {
   "cell_type": "code",
   "execution_count": 2,
   "metadata": {
    "vscode": {
     "languageId": "java"
    }
   },
   "outputs": [
    {
     "name": "stdout",
     "output_type": "stream",
     "text": [
      "Hello, World!"
     ]
    }
   ],
   "source": [
    "System.out.print(\"Hello, \"); \n",
    "System.out.print(\"World!\");"
   ]
  },
  {
   "cell_type": "code",
   "execution_count": 1,
   "metadata": {
    "vscode": {
     "languageId": "java"
    }
   },
   "outputs": [
    {
     "name": "stdout",
     "output_type": "stream",
     "text": [
      "Hello, \n",
      "World!\n"
     ]
    }
   ],
   "source": [
    "System.out.println(\"Hello, \"); \n",
    "System.out.println(\"World!\");"
   ]
  },
  {
   "cell_type": "markdown",
   "metadata": {},
   "source": [
    "### Escape Characters\n",
    "\n",
    "Escape characters let you include special characters in your strings that would otherwise be difficult or impossible to type directly. They are preceded by a backslash `\\`.\n",
    "\n",
    "1.  New Line: `\\n` starts a new line.\n",
    "\n",
    "    -   Example: `System.out.println(\"Hello\\nWorld\");` prints \"Hello\" and \"World\" on separate lines.\n",
    "2.  Tab: `\\t` adds a tab space.\n",
    "\n",
    "    -   Example: `System.out.println(\"Hello\\tWorld\");` prints \"Hello World\" with a tab space in between.\n",
    "3.  Double Quote: `\\\"` lets you include double quotes within a string.\n",
    "\n",
    "    -   Example: `System.out.println(\"She said, \\\"Hello, World!\\\");` prints 'She said, \"Hello, World!\"'\n",
    "4.  Backslash: `\\\\` lets you include a backslash in your string.\n",
    "\n",
    "    -   Example: `System.out.println(\"Backslashes \\\\ are cool.\");` prints \"Backslashes \\ are cool.\"\n",
    "\n",
    "Here's a quick example that combines all these elements:"
   ]
  },
  {
   "cell_type": "code",
   "execution_count": 4,
   "metadata": {
    "vscode": {
     "languageId": "java"
    }
   },
   "outputs": [
    {
     "name": "stdout",
     "output_type": "stream",
     "text": [
      "Hello, World!\n",
      "New line:\n",
      "Second Line\n",
      "Tab:\tAfter the tab\n",
      "Quotes: \"Inside Quotes\"\n",
      "Backslash: \\\n"
     ]
    }
   ],
   "source": [
    "public class PrintDemo {\n",
    "    public static void main(String[] args) {\n",
    "      \n",
    "      // Basic printing\n",
    "      System.out.println(\"Hello, World!\");\n",
    "      \n",
    "      // Using escape characters\n",
    "      System.out.println(\"New line:\\nSecond Line\");\n",
    "      System.out.println(\"Tab:\\tAfter the tab\");\n",
    "      System.out.println(\"Quotes: \\\"Inside Quotes\\\"\");\n",
    "      System.out.println(\"Backslash: \\\\\");\n",
    "    }\n",
    "  }\n",
    "\n",
    "  PrintDemo.main(null);"
   ]
  },
  {
   "cell_type": "markdown",
   "metadata": {},
   "source": [
    "## WHy Learn Java?\n",
    "Learning Java can be a gateway to grasping broader concepts in computer science, much like learning to play a simple song on the guitar can open the door to understanding music theory. Let's delve into a few key areas where Java can serve as an illuminating starting point.\n",
    "\n",
    "**Algorithms and Problem-Solving.** Java offers a clear and structured environment for implementing algorithms, the step-by-step methods used for problem-solving. As you learn to write Java programs to sort numbers, search for data, or simulate real-world scenarios, you're also learning the underpinnings of computational thinking and algorithmic logic.\n",
    "\n",
    "**Data Structures.** Java allows you to explore essential data structures like arrays, linked lists, and trees. These are foundational concepts that help you understand how data can be organized, stored, and manipulated efficiently. Understanding these structures is akin to knowing how to build and arrange sentences in a language---it's a skill that's applicable across multiple areas of study and work.\n",
    "\n",
    "**Object-Oriented Programming (OOP).** Java is rooted in Object-Oriented Programming, a concept that teaches you to think in terms of \"objects\" and \"classes.\" This approach encourages you to model real-world entities as software objects, which can help you tackle complex problems in a structured manner. OOP is like the grammar that helps you construct meaningful sentences; it's a concept that exists in many other programming languages, not just Java.\n",
    "\n",
    "**Software Engineering Principles.** As you build larger Java programs, you'll naturally encounter the need for good coding practices---commenting, code reusability, and version control, to name a few. These are foundational software engineering principles that will help you write robust, maintainable code, whether you're working on a small project or a large software system.\n",
    "\n",
    "**Ethical and Social Implications.** Java's widespread use in web servers, mobile apps, and enterprise software means that you'll likely engage with projects that have real-world applications. This can serve as a springboard to explore the ethical and social implications of computing, from data privacy to accessibility.\n",
    "\n",
    "In essence, learning Java is like acquiring a new language and then using it to read literature, write essays, and engage in debates. Each program you write offers insights into the rules and nuances of the computing world, enriching your understanding of broader computer science concepts. Whether you continue to specialize in Java or move on to other languages and topics, the foundational knowledge you gain will be invaluable."
   ]
  },
  {
   "cell_type": "markdown",
   "metadata": {},
   "source": [
    "## Debugging for Fun and Profit\n",
    "Debugging is the process of identifying and fixing errors or \"bugs\" in a program. Imagine you're assembling a jigsaw puzzle, and you find that some pieces aren't fitting as they should. Debugging is akin to figuring out why those pieces don't fit and then correcting them so that they do. In programming, these \"misfits\" could be syntax errors, logical mistakes, or unexpected behaviors that you encounter while running your code.\n",
    "\n",
    "Here's how debugging typically works:\n",
    "\n",
    "1.  Identify: First, you have to notice that something's wrong. Maybe your program crashes, or perhaps it doesn't give the output you expected.\n",
    "\n",
    "2.  Isolate: Once you know there's an issue, the next step is to find out where exactly it's occurring. Tools like debuggers or simple `System.out.println()` statements in Java can help you pinpoint the troublesome code.\n",
    "\n",
    "3.  Fix and Test: After identifying the problem, you modify the code to correct the issue. Then, you test the program to make sure that your fix worked and didn't create new problems.\n",
    "\n",
    "4.  Understand: Finally, it's crucial to understand why the bug occurred in the first place. This understanding prevents you from making the same mistake again and helps you become a better programmer.\n",
    "\n",
    "### The Value of Fruitful Mistakes\n",
    "\n",
    "The phrase \"making fruitful mistakes\" captures the essence of experiential learning. In computer science, you often learn the most when things go wrong. Why? Because mistakes force you to delve deeper into the logic and structure of your code, pushing you to understand not just the \"how\" but also the \"why.\"\n",
    "\n",
    "1.  Enhanced Understanding: Fixing an error often requires a deeper understanding of the language and the logic you're using. Each debugging session is like a mini-tutorial on some aspect of programming.\n",
    "\n",
    "2.  Problem-Solving Skills: Debugging hones your problem-solving skills. Each bug is a puzzle that needs solving, and puzzles are excellent training for your brain.\n",
    "\n",
    "3.  Attention to Detail: Debugging cultivates a keen attention to detail. Often, bugs are tiny things---a missing semicolon or a single misspelled variable name. Learning to spot these small errors helps you write better code initially.\n",
    "\n",
    "4.  Resilience: Facing frequent mistakes and learning to overcome them builds resilience and patience. You learn to see errors not as roadblocks but as stepping stones on the path to a working program.\n",
    "\n",
    "In many fields, mistakes can be costly or dangerous, but in computer science, especially in a learning environment, they're usually low-stakes and high-reward. Each mistake is a lesson wrapped in a puzzle, a chance to practice and improve your skills. The process of debugging teaches you not just how to fix errors but also how to think like a computer scientist. So, in a way, every bug you encounter is a disguised opportunity for growth."
   ]
  },
  {
   "cell_type": "markdown",
   "metadata": {},
   "source": [
    "## A Buggy Program\n",
    "This programs is supposed to print \"Java, Java, Java!\" on a single line. However, it isn't working! Can you help fix it?"
   ]
  },
  {
   "cell_type": "code",
   "execution_count": null,
   "metadata": {
    "vscode": {
     "languageId": "java"
    }
   },
   "outputs": [],
   "source": [
    "// This program is supposed to print \"Java! Java! Java!\"\n",
    "public class JavaPrinter {\n",
    "    public static void main(String[] args) {\n",
    "        \n",
    "        // Bug 1: Syntax error - Missing closing quotation mark\n",
    "        System.out.print(\"Java!);\n",
    "\n",
    "        // Bug 2: Logical error - Wrong message being printed\n",
    "        System.out.print(\"Python!\");\n",
    "\n",
    "        // Bug 3: Runtime error - Division by zero\n",
    "        int number = 0;\n",
    "        System.out.println(10 / number);\n",
    "    }\n",
    "}\n"
   ]
  },
  {
   "cell_type": "markdown",
   "metadata": {},
   "source": [
    "The bugs to fix here include:\n",
    "\n",
    "1.  **Syntax Errors.** The first `System.out.println()` is missing a closing quotation mark, which will prevent the program from compiling. Syntax errors are like grammatical mistakes that need to be corrected before the program can run.\n",
    "\n",
    "2.  **Logical Errors.** The second `System.out.println()` is printing \"Python! Python! Python!\" instead of \"Java! Java! Java!\" The program will run, but it won't do what you expect. Logical errors are like saying something perfectly grammatically correct but factually wrong.\n",
    "\n",
    "3.  **Runtime Errors.** The third part of the code attempts to divide by zero, which will cause the program to crash when run. Runtime errors are problems that appear only when the program is executed, like a stumble in a dance performance that was rehearsed perfectly."
   ]
  },
  {
   "cell_type": "markdown",
   "metadata": {},
   "source": [
    "### Exercise: Setting Up and Running Your First Java Program\n",
    "\n",
    "#### Step 1: Create a Github Account\n",
    "\n",
    "1.  Open a web browser and navigate to [https://github.com/](https://github.com/).\n",
    "2.  Click on the \"Sign up\" button, usually found at the top-right corner of the page.\n",
    "3.  Follow the on-screen instructions to create your account. Make sure to verify your email address.\n",
    "\n",
    "#### Step 2: Login into cs50.dev\n",
    "\n",
    "1.  Open a new tab in your web browser and go to https://cs50.dev/](https://cs50.dev/). This is an implementation of VSCode for students and teachers.\n",
    "2.  Click on the \"Sign in with Github\" button.\n",
    "3.  Enter your Github credentials and authorize cs50.dev to access your Github account.\n",
    "\n",
    "#### Step 3: Write and Run a Java Program Called \"HelloWorld\"\n",
    "\n",
    "##### Writing the Program\n",
    "\n",
    "1.  Once logged into cs50.dev, you should see a development environment. Open the **terminal** (the small area at the bottom ) in the environment.\n",
    "    - The terminal is like a command center for your computer, where you can type text-based commands to perform tasks, such as creating folders or running programs. Think of it as a way to talk directly to your computer, bypassing the usual point-and-click interface.\n",
    "    \n",
    "2.  Create a new directory (folder) for your Java programs by typing `mkdir JavaPrograms` and pressing Enter.\n",
    "3.  Navigate into your new directory by typing `cd JavaPrograms` and pressing Enter.\n",
    "4.  Create a new Java file by typing `touch HelloWorld.java` and pressing Enter.\n",
    "5.  Open this new file with a text editor. You can usually do this by typing `code HelloWorld.java` and pressing Enter.\n",
    "6.  Type the following Java code into the text editor:\n",
    "\n",
    "```java\n",
    "public class HelloWorld {\n",
    "    public static void main(String[] args) {\n",
    "        System.out.println(\"Hello, World!\");\n",
    "    }\n",
    "}\n",
    "```\n",
    "\n",
    "7.  Save the file and close the text editor.\n",
    "\n",
    "##### Compiling the Program\n",
    "\n",
    "1.  Return to the terminal.\n",
    "2.  Compile the Java file by typing `javac HelloWorld.java` and pressing Enter.\n",
    "\n",
    "##### Running the Program\n",
    "\n",
    "1.  If the compile step was successful, you should see no errors in the terminal.\n",
    "2.  Run the compiled Java program by typing `java HelloWorld` and pressing Enter.\n",
    "3.  You should see \"Hello, World!\" printed to the terminal. Congratulations, you've just run your first Java program!"
   ]
  },
  {
   "cell_type": "markdown",
   "metadata": {},
   "source": []
  }
 ],
 "metadata": {
  "kernelspec": {
   "display_name": "Java",
   "language": "java",
   "name": "java"
  },
  "language_info": {
   "codemirror_mode": "java",
   "file_extension": ".jshell",
   "mimetype": "text/x-java-source",
   "name": "Java",
   "pygments_lexer": "java",
   "version": "17.0.8.1+1-LTS"
  },
  "orig_nbformat": 4
 },
 "nbformat": 4,
 "nbformat_minor": 2
}
