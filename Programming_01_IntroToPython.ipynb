{
  "nbformat": 4,
  "nbformat_minor": 0,
  "metadata": {
    "colab": {
      "provenance": [],
      "authorship_tag": "ABX9TyNuFukHXSRYAxu6EDlrHHOd",
      "include_colab_link": true
    },
    "kernelspec": {
      "name": "python3",
      "display_name": "Python 3"
    },
    "language_info": {
      "name": "python"
    }
  },
  "cells": [
    {
      "cell_type": "markdown",
      "metadata": {
        "id": "view-in-github",
        "colab_type": "text"
      },
      "source": [
        "<a href=\"https://colab.research.google.com/github/brendanpshea/java/blob/main/Programming_01_IntroToPython.ipynb\" target=\"_parent\"><img src=\"https://colab.research.google.com/assets/colab-badge.svg\" alt=\"Open In Colab\"/></a>"
      ]
    },
    {
      "cell_type": "code",
      "execution_count": null,
      "metadata": {
        "id": "jWACKR6aG7Ng"
      },
      "outputs": [],
      "source": []
    },
    {
      "cell_type": "markdown",
      "source": [
        "### Introduction: What is Programming?\n",
        "\n",
        "**Programming** is much like crafting a detailed instruction manual for a computer to follow. If you've ever cooked using a recipe, you'll find similarities. A recipe calls for specific ingredients (like eggs and flour) and has a series of steps (like mixing and baking) to turn those ingredients into a cake. In the same way, a computer program requires inputs, follows algorithms, and produces outputs.\n",
        "\n",
        "Let's break this down a bit more. **Inputs** are the raw materials or information that a program starts with. For example, if you're building a weather app, the input could be the current temperature and humidity levels. **Outputs** are what you're aiming for---the finished product or the information you want to extract. In the case of the weather app, the output could be a message telling you whether to carry an umbrella or not. **Algorithms**, meanwhile, are the set of rules or steps that the program follows to turn inputs into outputs. If the weather app's algorithm decides that any temperature below freezing and humidity above 90% means it's likely to snow, it will output a message advising you to wear a coat.\n",
        "\n",
        "Programming shares roots and methodologies with other fields of study, such as math, engineering, science, and philosophy. In mathematics, you solve problems by applying theorems or equations. Similarly, in programming, you decompose a large problem into smaller, more manageable tasks that a computer can handle. Imagine you're trying to find the shortest path between two cities; in math, you might use graph theory, while in programming, you might use an algorithm like Dijkstra's to find the answer.\n",
        "\n",
        "In engineering, the process of building something, say a bridge, involves precise planning and execution. Programming is no different; you need a structured approach to write code that is both effective and efficient. For instance, before constructing a building, engineers use blueprints; in programming, you often start with a flowchart or a set of pseudocode to outline your program's logic.\n",
        "\n",
        "Science involves a lot of experimentation and so does programming. Scientists tweak variables in a lab to observe different outcomes; similarly, programmers test different algorithms or inputs to optimize performance. For example, if you're designing a video game, you might experiment with various algorithms for enemy behavior to make the game more engaging.\n",
        "\n",
        "Philosophy, particularly the branches focusing on logic and ethics, also plays a role. Logic helps in structuring your algorithms or in debugging, which is the act of finding and fixing errors in your code. Ethics comes into play when considering the societal impact of your program. For example, if you're developing a facial recognition system, ethical considerations might guide you to make it non-discriminatory.\n",
        "\n",
        "Understanding the roles of input, output, and algorithms is not just useful but critical. If your inputs are flawed, your outputs will likely be flawed too. Imagine a GPS navigation app that has outdated information about road closures; the output directions could lead you straight into a traffic jam."
      ],
      "metadata": {
        "id": "kywXIRdXG71S"
      }
    },
    {
      "cell_type": "markdown",
      "source": [
        "### What is Python?\n",
        "**Python** is a programming language that serves as a medium for humans to communicate instructions to computers. Created by a Dutch programmer named Guido van Rossum, Python made its debut in 1991. The language draws its quirky name from the British comedy group Monty Python---a nod to van Rossum's desire to make programming a bit more lighthearted. This sense of humor is even reflected in Python's documentation, where you may stumble upon jokes or playful examples.\n",
        "\n",
        "One of Python's standout features is its readability. In many programming languages, you'll find complex rules and syntax that might feel like trying to read a legal document. Python, on the other hand, is designed to be clear and easy to understand. For example, consider the task of printing \"Hello, World!\" on the screen. In a language like C++, the code might look somewhat intricate:\n",
        "\n",
        "```cpp\n",
        "#include <iostream>\n",
        "int main() {\n",
        "    std::cout << \"Hello, World!\" << std::endl;\n",
        "    return 0;\n",
        "}\n",
        "```\n",
        "\n",
        "In Python, the same task is much simpler:\n",
        "\n",
        "```python\n",
        "print(\"Hello, World!\")\n",
        "```\n",
        "\n",
        "This simplicity doesn't mean Python is a \"lightweight\" language. It's capable of handling a wide range of tasks. For instance, websites like Instagram and Pinterest are built on Python. Major companies like Google and NASA use Python for data analysis and scientific research, respectively. Python also has extensive use in emerging fields like machine learning, where it helps computers learn from data to make decisions.\n",
        "\n",
        "Python's versatility is largely due to its extensive libraries and frameworks. These are like pre-assembled Lego blocks that you can use to build something more complex. For example, if you're interested in web development, frameworks like Django provide ready-to-use components for building robust web applications. In the realm of data science, libraries like Pandas and Matplotlib simplify data manipulation and visualization.\n",
        "\n",
        "Furthermore, Python has a large, active community of developers, which means you'll find a wealth of tutorials, forums, and third-party tools to help you along your journey. It's like having a group of experienced chefs willing to share their secret recipes with you."
      ],
      "metadata": {
        "id": "Ezpm0xTDHZcG"
      }
    },
    {
      "cell_type": "markdown",
      "source": [
        "### Hello, World!\"\n",
        "\n",
        "Writing and running a \"Hello, World!\" program is often the first step in learning a new programming language. It's the equivalent of a baby's first words but for programmers. Let's walk through how to do this in Python, focusing on key components like the print function, strings, and executing the code using a platform like Google Colab.\n",
        "\n",
        "The code to print \"Hello, World!\" in Python is straightforward:"
      ],
      "metadata": {
        "id": "7ELhvcMTH-MI"
      }
    },
    {
      "cell_type": "code",
      "source": [
        "print(\"Hello, World!\")"
      ],
      "metadata": {
        "id": "_CBYp6kiIowI"
      },
      "execution_count": null,
      "outputs": []
    },
    {
      "cell_type": "markdown",
      "source": [
        "Even in this short line of code, we can see a few important programming concepts at work:\n",
        "\n",
        "1. The first thing you see is `print`, which is a built-in Python function. A **function** is a reusable piece of code that performs a specific task. The `print` function's task is to send whatever you give it to the computer's display. Think of it as a messenger: you hand it a message, and it delivers that message to the screen for you.\n",
        "\n",
        "2. The message we want to print, \"Hello, World!\", is enclosed in double quotes. This makes it a **string**, which is essentially a sequence of characters. In Python, strings can be enclosed in either single (`' '`) or double (`\" \"`) quotes, as long as the opening and closing quotes match.\n",
        "\n",
        "3. Once you've written the code, you'll want to run it to see the output. In Google Colab, you can simply click the play button (or hit `Shift + Enter` on your keyboard) to execute it. This action calls the **Python interpreter**, the part of the software that reads your code and carries out the instructions. The interpreter will run the `print` function, which in turn displays \"Hello, World!\" on the screen.\n",
        "\n",
        "So, to recap: you use the `print` function to display messages on the screen. The message itself, \"Hello, World!\", is a string, and it's what you want the `print` function to show. Once you've written this code in a Google Colab cell, you execute it by hitting 'Run', which triggers the Python interpreter to carry out your instructions."
      ],
      "metadata": {
        "id": "DXkhoqf0H-cA"
      }
    },
    {
      "cell_type": "markdown",
      "source": [
        "### What Are Variables?\n",
        "\n",
        "In programming, a **variable** acts much like a container or a box where you can store information. This stored information can be a number, a piece of text, or even more complex data like a list of numbers. Variables are the workhorses of programming; they hold the data that your program will manipulate.\n",
        "\n",
        "In Python, creating a variable is straightforward. You simply give it a name and use the equals sign (`=`) to store a value in it. For instance, if you want to store the number 7 in a variable named `my_number`, you would write:"
      ],
      "metadata": {
        "id": "EgNmYjsRKP5y"
      }
    },
    {
      "cell_type": "code",
      "source": [
        "my_number = 7\n",
        "print(my_number)"
      ],
      "metadata": {
        "colab": {
          "base_uri": "https://localhost:8080/"
        },
        "id": "Ic_uNn2GKQ9f",
        "outputId": "26ada46f-6c2f-484f-9e57-6874da334b40"
      },
      "execution_count": 5,
      "outputs": [
        {
          "output_type": "stream",
          "name": "stdout",
          "text": [
            "7\n"
          ]
        }
      ]
    },
    {
      "cell_type": "markdown",
      "source": [
        "Here, `my_number` is the variable **name**, and 7 is the **value** stored in that variable. The equals sign (`=`) is the **assignment operator**, which essentially says, \"Take the value on the right and store it in the variable on the left.\"\n",
        "\n",
        "#### Types of Variables\n",
        "\n",
        "Variables can hold different types of data. For example, they can store numbers (like 5 or 3.14), text (known as strings, such as \"Hello, World!\"), or even collections of data like lists or dictionaries. The type of data a variable holds is crucial for how you can manipulate it later. You wouldn't, for example, add a number to a piece of text without converting one to the other's type first. For example:"
      ],
      "metadata": {
        "id": "hvbzaPUzLcCW"
      }
    },
    {
      "cell_type": "code",
      "source": [
        "my_number = 7  # This is an integer\n",
        "my_text = \"Hello, World!\"  # This is a string"
      ],
      "metadata": {
        "id": "Ov1D_n9mHF-v"
      },
      "execution_count": null,
      "outputs": []
    },
    {
      "cell_type": "markdown",
      "source": [
        "One of the useful features of variables is that their values aren't set in stone---you can change them. This is called **reassignment**. For instance, if you want `my_number` to store the value 21 instead of 7, you can simply write:"
      ],
      "metadata": {
        "id": "PqF59VYzL12Y"
      }
    },
    {
      "cell_type": "code",
      "source": [
        "my_number = 21\n",
        "print(my_number)"
      ],
      "metadata": {
        "colab": {
          "base_uri": "https://localhost:8080/"
        },
        "id": "sixriYunL02Q",
        "outputId": "bbbbc654-f4a3-449d-f66b-ea3f1634a8b7"
      },
      "execution_count": 6,
      "outputs": [
        {
          "output_type": "stream",
          "name": "stdout",
          "text": [
            "21\n"
          ]
        }
      ]
    },
    {
      "cell_type": "markdown",
      "source": [
        "Now, my_number holds the value 21. It's as if you emptied the box and put something else in it.\n",
        "\n",
        "In essence, then, variables are like labeled boxes where you can put things you'll need later. You create a variable with an assignment statement, using the equals sign to place a value into the variable. The type of value you store—whether it's a number, text, or something else—determines what you can do with that variable later. And remember, you can always change what's in the box by reassigning the variable."
      ],
      "metadata": {
        "id": "K-C5Y-zxMb08"
      }
    },
    {
      "cell_type": "markdown",
      "source": [
        "## Why Is Python So Picky? An Aside on Formal and Natural Languages\n",
        "\n",
        "Languages serve as vehicles for communication, but not all languages are created equal in terms of their structure, purpose, or clarity. We can categorize languages into two broad types: **natural languages** and **formal languages**. Each has its unique characteristics, advantages, and limitations, making them suited for different tasks.\n",
        "\n",
        "#### Natural Languages: Richness, Ambiguity, and Context\n",
        "\n",
        "Natural languages are the languages we use in daily life---like English, Spanish, or Mandarin. These languages evolved organically and are rich in nuance, idioms, and cultural references. While this richness allows for expressive communication, it also introduces a level of ambiguity. Words can have multiple meanings, and the structure of sentences can sometimes make their intent unclear.\n",
        "\n",
        "For example, the phrase \"Time flies like an arrow\" is straightforward, but what about \"fruit flies like a banana\"? The latter can be interpreted in multiple ways due to its ambiguous syntax and semantics. **Syntax** refers to the rules that govern the structure of sentences, while **semantics** pertains to the meaning of words and sentences. In natural languages, syntax and semantics are deeply influenced by context, which a human listener usually understands but a computer does not.\n",
        "\n",
        "#### Formal Languages: Precision, Syntax, and Semantics\n",
        "\n",
        "Formal languages, on the other hand, are engineered for specific purposes like mathematics, logic, or computer programming. They are deliberately designed to be as unambiguous as possible. In formal languages, both syntax and semantics are strictly defined. For example, in Python, the line `print(\"Hello, World!\")` has a very specific syntax: the word `print` followed by an opening parenthesis, a string enclosed in quotes, and a closing parenthesis. The semantics are also clear: this line of code will display the text \"Hello, World!\" on the screen.\n",
        "\n",
        "The strict rules of formal languages ensure that there is minimal ambiguity. This is crucial for applications like computer programming, where a small misunderstanding could result in a significant error. Computers require instructions to be laid out in an exacting manner because they lack the ability to infer or interpret meaning from context.\n",
        "\n",
        "#### Why Not Program in Natural Language?\n",
        "\n",
        "The idea of using natural language for programming is tempting but problematic for several reasons:\n",
        "\n",
        "1.  *Ambiguity.* Natural languages often contain ambiguous phrases or sentences, leading to potential misunderstandings. A computer may not know how to handle a command like \"Find me a good restaurant,\" because the word \"good\" is subjective and depends on individual preference, location, and many other variables.\n",
        "\n",
        "2.  *Complexity.* Natural languages are full of exceptions and irregularities in both syntax and semantics. Building a computer program capable of understanding all these nuances would be an enormous, if not impossible, task.\n",
        "\n",
        "3.  *Lack of Precision.* Programming tasks often require a level of precision that natural languages are not designed to offer. For example, in a program that controls a robotic arm, specifying the exact angle and speed of movement is crucial, and natural language is not well-suited for this level of detail.\n",
        "\n",
        "Natural languages are versatile and expressive but are hindered by ambiguity and a lack of formal rules. Formal languages, with their strict syntax and semantics, are designed for precision and are thus ideal for computer programming. These fundamental differences in structure and purpose explain why programming in natural languages remains an impractical aspiration. Understanding the unique qualities of formal and natural languages is essential for anyone looking to delve into the world of programming, where precision and clarity are paramount."
      ],
      "metadata": {
        "id": "W8dkgSB5N4WS"
      }
    },
    {
      "cell_type": "code",
      "source": [],
      "metadata": {
        "id": "gKUSUPtFMepJ"
      },
      "execution_count": null,
      "outputs": []
    }
  ]
}